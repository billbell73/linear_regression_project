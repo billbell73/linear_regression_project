{
 "cells": [
  {
   "cell_type": "code",
   "execution_count": 482,
   "outputs": [],
   "source": [
    "import requests, bs4, re\n",
    "from bs4 import BeautifulSoup as bs"
   ],
   "metadata": {
    "collapsed": false,
    "pycharm": {
     "name": "#%%\n"
    }
   }
  },
  {
   "cell_type": "code",
   "execution_count": 483,
   "outputs": [],
   "source": [
    "url = 'https://www.autotrader.co.uk/car-details/202105202850513?model=911&onesearchad=New&onesearchad=Nearly%20New&onesearchad=Used&make=Porsche&radius=1500&year-to=2021&include-delivery-option=on&postcode=bh205lg&sort=price-desc&advertising-location=at_cars&page=1'"
   ],
   "metadata": {
    "collapsed": false,
    "pycharm": {
     "name": "#%%\n"
    }
   }
  },
  {
   "cell_type": "code",
   "execution_count": 484,
   "outputs": [],
   "source": [
    "# url = 'https://www.autotrader.co.uk/car-details/202110048110259?year-to=2021&advertising-location=at_cars&model=911&make=Porsche&include-delivery-option=on&postcode=bh205lg&onesearchad=New&onesearchad=Nearly%20New&onesearchad=Used&radius=1501&sort=relevance&page=1'"
   ],
   "metadata": {
    "collapsed": false,
    "pycharm": {
     "name": "#%%\n"
    }
   }
  },
  {
   "cell_type": "code",
   "execution_count": 485,
   "outputs": [],
   "source": [
    "from selenium import webdriver\n",
    "from selenium.webdriver.common.keys import Keys\n",
    "import time, os\n",
    "\n",
    "chromedriver = \"/Users/william.bell/opt/anaconda3/envs/metis/lib/python3.8/site-packages/chromedriver_binary/chromedriver\" # path to the chromedriver executable\n",
    "os.environ[\"webdriver.chrome.driver\"] = chromedriver"
   ],
   "metadata": {
    "collapsed": false,
    "pycharm": {
     "name": "#%%\n"
    }
   }
  },
  {
   "cell_type": "code",
   "execution_count": 486,
   "outputs": [],
   "source": [
    "# query = \"data science\"\n",
    "# youtube_search = \"https://www.youtube.com/results?search_query=\"\n",
    "# youtube_query = youtube_search + query.replace(' ', '+')\n",
    "driver = webdriver.Chrome(chromedriver)\n",
    "driver.implicitly_wait(10)\n",
    "driver.get(url)\n",
    "driver.maximize_window()"
   ],
   "metadata": {
    "collapsed": false,
    "pycharm": {
     "name": "#%%\n"
    }
   }
  },
  {
   "cell_type": "code",
   "execution_count": 487,
   "outputs": [
    {
     "data": {
      "text/plain": "'<html lang=\"en\" class=\"sp-message-open\"><head><meta charset=\"utf-8\">\\n<meta name=\"viewport\" content=\"width=device-width, initial-scale=1, shrink-to-fit=no\">\\n<meta name=\"theme-color\" content=\"#313c53\">\\n\\n<link rel=\"preconnect\" href=\"https://ec.atcdn.co.uk\" crossorigin=\"\">\\n<link rel=\"dns-prefetch\" href=\"https://ec.atcdn.co.uk\" crossorigin=\"\" as=\"image\">\\n<link rel=\"preconnect\" href=\"https://m.atcdn.co.uk\" crossorigin=\"\">\\n<link rel=\"dns-prefetch\" href=\"https://m.atcdn.co.uk\" crossorigin=\"\" as=\"image\">\\n\\n<link rel=\"icon\" href=\"https://www.autotrader.co.uk/images/favicons/favicon.png\">\\n<link rel=\"apple-touch-icon\" href=\"https://www.autotrader.co.uk/images/favicons/touch-icon-iphone.png\">\\n<link rel=\"apple-touch-icon\" sizes=\"76x76\" href=\"https://www.autotrader.co.uk/images/favicons/touch-icon-ipad.png\">\\n<link rel=\"apple-touch-icon\" sizes=\"120x120\" href=\"https://www.autotrader.co.uk/images/favicons/touch-icon-iphone-retina.png\">\\n<link rel=\"apple-touch-icon\" sizes=\"152x152\" href=\"https://www.autotr'"
     },
     "execution_count": 487,
     "metadata": {},
     "output_type": "execute_result"
    }
   ],
   "source": [
    "driver.page_source[:1000]"
   ],
   "metadata": {
    "collapsed": false,
    "pycharm": {
     "name": "#%%\n"
    }
   }
  },
  {
   "cell_type": "code",
   "execution_count": 488,
   "outputs": [],
   "source": [
    "soup = bs(driver.page_source)"
   ],
   "metadata": {
    "collapsed": false,
    "pycharm": {
     "name": "#%%\n"
    }
   }
  },
  {
   "cell_type": "code",
   "execution_count": 489,
   "outputs": [
    {
     "data": {
      "text/plain": "<main class=\"main__content used-fpa\" id=\"content\"><div class=\"skeleton-remove-fade\"><div class=\"sc-bXDkGd dyMpem\"><div class=\"sc-gsxoIA iYfbMn\"><nav class=\"sc-fvhFOF jtqxYq\"><a class=\"sc-fbNZge fGa-ddm atc-type-smart--medium\" data-gui=\"back-to-search-link\" href=\"/car-search?model=911&amp;onesearchad=New&amp;onesearchad=Nearly%20New&amp;onesearchad=Used&amp;make=Porsche&amp;radius=1500&amp;year-to=2021&amp;include-delivery-option=on&amp;postcode=bh205lg&amp;sort=price-desc&amp;advertising-location=at_cars&amp;page=1#202105202850513\"><span class=\"icon-svg\"><svg height=\"12\" viewbox=\"0 0 13 12\" width=\"13\" xmlns=\"http://www.w3.org/2000/svg\"><path d=\"M3.4 7H12a1 1 0 0 0 0-2H3.4l3.3-3.3a1 1 0 0 0 0-1.4 1 1 0 0 0-1.4 0l-5 5a1 1 0 0 0 0 1.4l5 5a1 1 0 0 0 1.4-1.4z\"></path></svg></span><span class=\"sc-GTVdH ieBKgT\">Back to results</span></a></nav></div></div><div class=\"sc-gsxoIA fjZDiT\"><div class=\"sc-bsipwG jPEdib\"><a class=\"sc-gInthZ cfhoHi atc-type-prius\" data-gui=\"title-ctm-insurance-link\" data-testid=\"ctm-insurance-link\" href=\"https://partnerships-motor-gateway.comparethemarket.com/product/car/start?vrn=Qd0D%2Fxb2aEWMyo5GRqYFDetrJEEcIcU%3D&amp;imageurl=https%3A%2F%2Fm.atcdn.co.uk%2Fa%2Fmedia%2F2ad3d5cc743e455883e549122376c36b.jpg&amp;affclie=DK81&amp;cmpid=PS-_-ATR-_-PC-_-DTP-_-1hYFlU5gy4FdUAt&amp;value=459950&amp;numSeats=4&amp;driveSide=RHD&amp;advertId=202105202850513&amp;returnUrl=https%3A%2F%2Fwww.autotrader.co.uk%2Fcar-details%2F202105202850513%3Fmodel%3D911%26onesearchad%3DNew%26onesearchad%3DNearly%2520New%26onesearchad%3DUsed%26make%3DPorsche%26radius%3D1500%26year-to%3D2021%26include-delivery-option%3Don%26postcode%3Dbh205lg%26sort%3Dprice-desc%26advertising-location%3Dat_cars%26page%3D1%26affiliateCode%3DDK81%26cmpid%3DPS-_-ATR-_-PC-_-DTP-_-1hYFlU5gy4FdUAt%26ctaLocation%3DfpaDesktop1\" rel=\"external noopener noreferrer nofollow\"><img alt=\"insurance logo car\" class=\"sc-euMpEg lceqMn\" src=\"https://www.autotrader.co.uk/images/ctm-logo.png\"/>Get an insurance quote</a><button class=\"sc-bqyKOL sc-kstqJO esiMbk hgflJG\"></button></div><article class=\"sc-ctaXho bgOsUv\"><section class=\"sc-gIRjGK fJUtpK\" data-gui=\"gallery-section\"><div class=\"sc-jHVedQ eHjrcc\"><div class=\"sc-aemIz kChXGK\"><div class=\"sc-bgSLBM jEkXNM atc-type-smart\" data-testid=\"stats\"><span aria-label=\"Video Icon\" class=\"sc-cdpGhN hcLzzQ\" role=\"presentation\"><span class=\"icon-svg\"><svg height=\"24\" viewbox=\"0 0 24 24\" width=\"24\" xmlns=\"http://www.w3.org/2000/svg\"><path d=\"M0 0h24v24H0V0z\" fill=\"none\"></path><path d=\"M15 16V8H5v8h10zm2-2.5l-.01 2.51a2 2 0 0 1-2 1.99H5a2 2 0 0 1-2-2V8c0-1.1.9-2 2-2h10a2 2 0 0 1 2 2v2.5l4-4v11l-4-4z\"></path></svg></span></span><span aria-label=\"Photos Icon\" class=\"sc-cdpGhN hcLzzQ\" role=\"presentation\"><span class=\"icon-svg\"><svg height=\"24\" viewbox=\"0 0 24 24\" width=\"24\" xmlns=\"http://www.w3.org/2000/svg\"><path d=\"M0 0h24v24H0V0z\" fill=\"none\"></path><path d=\"M15.95 8H20v10H4V8h4.05l1.83-2h4.24l1.83 2zM9 4L7.17 6H4a2 2 0 0 0-2 2v10c0 1.1.9 2 2 2h16a2 2 0 0 0 2-2V8a2 2 0 0 0-2-2h-3.17L15 4H9zm5 9c0-1.1-.9-2-2-2s-2 .9-2 2 .9 2 2 2 2-.9 2-2zm2 0c0 2.2-1.8 4-4 4s-4-1.8-4-4 1.8-4 4-4 4 1.8 4 4z\"></path></svg></span></span><span class=\"sc-kmPQK dEGxlp\">35</span></div><div class=\"slick-slider sc-bgJKwL cPecD slick-initialized\" dir=\"ltr\"><button aria-label=\"Previous image\" class=\"sc-fIITVz bsPgdD\" hidden=\"\"><svg height=\"24\" viewbox=\"0 0 24 24\" width=\"24\" xmlns=\"http://www.w3.org/2000/svg\"><title>Previous Arrow</title><path d=\"M0 0h24v24H0V0z\" fill=\"none\"></path><path d=\"M8.3 18.3a1 1 0 0 0 1.4 1.4l7-7a1 1 0 0 0 0-1.4l-7-7a1 1 0 0 0-1.4 1.4l6.29 6.3-6.3 6.3z\" fill=\"#fff\" transform=\"matrix(-1 0 0 1 24 0)\"></path></svg></button><div class=\"slick-list\"><div class=\"slick-track\" style=\"width: 27072px; opacity: 1; transform: translate3d(0px, 0px, 0px);\"><div aria-hidden=\"false\" class=\"slick-slide slick-active slick-current\" data-index=\"0\" style=\"outline: none; width: 752px;\" tabindex=\"-1\"><div><div class=\"sc-jQbJRc dvgsot\" role=\"button\"><img alt=\"Image 1 of 36\" sizes=\"(max-width: 320px) 300px, (max-width: 480px) 480px, (max-width: 600px) 600px, (max-width: 720px) 720px, 800px\" src=\"https://m.atcdn.co.uk/a/media/w800h600/2ad3d5cc743e455883e549122376c36b.jpg\" srcset=\"https://m.atcdn.co.uk/a/media/w300h225/2ad3d5cc743e455883e549122376c36b.jpg 320w, https://m.atcdn.co.uk/a/media/w480h360/2ad3d5cc743e455883e549122376c36b.jpg 480w, https://m.atcdn.co.uk/a/media/w600h450/2ad3d5cc743e455883e549122376c36b.jpg 600w, https://m.atcdn.co.uk/a/media/w720h540/2ad3d5cc743e455883e549122376c36b.jpg 720w, https://m.atcdn.co.uk/a/media/w800h600/2ad3d5cc743e455883e549122376c36b.jpg 800w\"/><i aria-label=\"Video Icon\" class=\"sc-jONnzC lkOUsZ\" role=\"presentation\"><span class=\"icon-svg\"><svg viewbox=\"0 0 24 24\" xmlns=\"http://www.w3.org/2000/svg\"><path d=\"M0 0h24v24H0V0z\" fill=\"none\"></path><path d=\"M8 6.82v10.36a1 1 0 0 0 1.54.84l8.14-5.18a1 1 0 0 0 0-1.69L9.54 5.98A1 1 0 0 0 8 6.82z\"></path></svg></span></i></div></div></div><div aria-hidden=\"true\" class=\"slick-slide\" data-index=\"1\" style=\"outline: none; width: 752px;\" tabindex=\"-1\"></div><div aria-hidden=\"true\" class=\"slick-slide\" data-index=\"2\" style=\"outline: none; width: 752px;\" tabindex=\"-1\"></div><div aria-hidden=\"true\" class=\"slick-slide\" data-index=\"3\" style=\"outline: none; width: 752px;\" tabindex=\"-1\"></div><div aria-hidden=\"true\" class=\"slick-slide\" data-index=\"4\" style=\"outline: none; width: 752px;\" tabindex=\"-1\"></div><div aria-hidden=\"true\" class=\"slick-slide\" data-index=\"5\" style=\"outline: none; width: 752px;\" tabindex=\"-1\"></div><div aria-hidden=\"true\" class=\"slick-slide\" data-index=\"6\" style=\"outline: none; width: 752px;\" tabindex=\"-1\"></div><div aria-hidden=\"true\" class=\"slick-slide\" data-index=\"7\" style=\"outline: none; width: 752px;\" tabindex=\"-1\"></div><div aria-hidden=\"true\" class=\"slick-slide\" data-index=\"8\" style=\"outline: none; width: 752px;\" tabindex=\"-1\"></div><div aria-hidden=\"true\" class=\"slick-slide\" data-index=\"9\" style=\"outline: none; width: 752px;\" tabindex=\"-1\"></div><div aria-hidden=\"true\" class=\"slick-slide\" data-index=\"10\" style=\"outline: none; width: 752px;\" tabindex=\"-1\"></div><div aria-hidden=\"true\" class=\"slick-slide\" data-index=\"11\" style=\"outline: none; width: 752px;\" tabindex=\"-1\"></div><div aria-hidden=\"true\" class=\"slick-slide\" data-index=\"12\" style=\"outline: none; width: 752px;\" tabindex=\"-1\"></div><div aria-hidden=\"true\" class=\"slick-slide\" data-index=\"13\" style=\"outline: none; width: 752px;\" tabindex=\"-1\"></div><div aria-hidden=\"true\" class=\"slick-slide\" data-index=\"14\" style=\"outline: none; width: 752px;\" tabindex=\"-1\"></div><div aria-hidden=\"true\" class=\"slick-slide\" data-index=\"15\" style=\"outline: none; width: 752px;\" tabindex=\"-1\"></div><div aria-hidden=\"true\" class=\"slick-slide\" data-index=\"16\" style=\"outline: none; width: 752px;\" tabindex=\"-1\"></div><div aria-hidden=\"true\" class=\"slick-slide\" data-index=\"17\" style=\"outline: none; width: 752px;\" tabindex=\"-1\"></div><div aria-hidden=\"true\" class=\"slick-slide\" data-index=\"18\" style=\"outline: none; width: 752px;\" tabindex=\"-1\"></div><div aria-hidden=\"true\" class=\"slick-slide\" data-index=\"19\" style=\"outline: none; width: 752px;\" tabindex=\"-1\"></div><div aria-hidden=\"true\" class=\"slick-slide\" data-index=\"20\" style=\"outline: none; width: 752px;\" tabindex=\"-1\"></div><div aria-hidden=\"true\" class=\"slick-slide\" data-index=\"21\" style=\"outline: none; width: 752px;\" tabindex=\"-1\"></div><div aria-hidden=\"true\" class=\"slick-slide\" data-index=\"22\" style=\"outline: none; width: 752px;\" tabindex=\"-1\"></div><div aria-hidden=\"true\" class=\"slick-slide\" data-index=\"23\" style=\"outline: none; width: 752px;\" tabindex=\"-1\"></div><div aria-hidden=\"true\" class=\"slick-slide\" data-index=\"24\" style=\"outline: none; width: 752px;\" tabindex=\"-1\"></div><div aria-hidden=\"true\" class=\"slick-slide\" data-index=\"25\" style=\"outline: none; width: 752px;\" tabindex=\"-1\"></div><div aria-hidden=\"true\" class=\"slick-slide\" data-index=\"26\" style=\"outline: none; width: 752px;\" tabindex=\"-1\"></div><div aria-hidden=\"true\" class=\"slick-slide\" data-index=\"27\" style=\"outline: none; width: 752px;\" tabindex=\"-1\"></div><div aria-hidden=\"true\" class=\"slick-slide\" data-index=\"28\" style=\"outline: none; width: 752px;\" tabindex=\"-1\"></div><div aria-hidden=\"true\" class=\"slick-slide\" data-index=\"29\" style=\"outline: none; width: 752px;\" tabindex=\"-1\"></div><div aria-hidden=\"true\" class=\"slick-slide\" data-index=\"30\" style=\"outline: none; width: 752px;\" tabindex=\"-1\"></div><div aria-hidden=\"true\" class=\"slick-slide\" data-index=\"31\" style=\"outline: none; width: 752px;\" tabindex=\"-1\"></div><div aria-hidden=\"true\" class=\"slick-slide\" data-index=\"32\" style=\"outline: none; width: 752px;\" tabindex=\"-1\"></div><div aria-hidden=\"true\" class=\"slick-slide\" data-index=\"33\" style=\"outline: none; width: 752px;\" tabindex=\"-1\"></div><div aria-hidden=\"true\" class=\"slick-slide\" data-index=\"34\" style=\"outline: none; width: 752px;\" tabindex=\"-1\"></div><div aria-hidden=\"true\" class=\"slick-slide\" data-index=\"35\" style=\"outline: none; width: 752px;\" tabindex=\"-1\"></div></div></div><button aria-label=\"Next image\" class=\"sc-fIITVz fuuKP\"><svg height=\"24\" viewbox=\"0 0 24 24\" width=\"24\" xmlns=\"http://www.w3.org/2000/svg\"><title>Next Arrow</title><path d=\"M0 0h24v24H0V0z\" fill=\"none\"></path><path d=\"M8.3 18.3a1 1 0 0 0 1.4 1.4l7-7a1 1 0 0 0 0-1.4l-7-7a1 1 0 0 0-1.4 1.4l6.29 6.3-6.3 6.3z\" fill=\"#fff\"></path></svg></button></div><span class=\"sc-iWFTwQ kmZhfG atc-type-smart\" data-gui=\"gallery-info\" data-testid=\"info\">Used</span><section class=\"sc-dmqUcu eXnglA\"><div class=\"sc-jVcspg sc-heejUR EBKxz jsJpUc\"><button class=\"sc-bqyKOL sc-bQlsKK sc-evBdYF esiMbk cCTRUO eCHRZz\"><span class=\"icon-svg\"><svg viewbox=\"0 0 24 24\" xmlns=\"http://www.w3.org/2000/svg\">\n<path d=\"M0 0h24v24H0V0z\" fill=\"none\"></path>\n<path d=\"M6 5V4c0-1.1.9-2 2-2h8a2 2 0 0 1 2 2v1h1.5C20.85 5 22 6.15 22 7.5v9c0 1.35-1.15 2.5-2.5 2.5H18v1a2 2 0 0 1-2 2H8c-1.15 0-2-.85-2-2v-1H4.5A2.54 2.54 0 0 1 2 16.5v-9C2 6.15 3.15 5 4.5 5H6zm2 0h8V4H8v1zm10 11l.03 1h1.47c.25 0 .5-.25.5-.5v-9c0-.25-.25-.5-.5-.5h-15c-.25 0-.5.25-.5.5v9c0 .25.25.5.5.5H6v-1c0-1.15.85-2 2-2h8c1.15 0 2 .85 2 2zm-2 1v-1H8v4h8v-3zm2-7a1 1 0 0 1-1-1 1 1 0 0 1 2 0c0 .6-.5 1-1 1zm-3 0c-.6 0-1-.4-1-1s.4-1 1-1 1 .4 1 1-.4 1-1 1z\"></path>\n</svg>\n</span></button></div><div class=\"sc-jVcspg EBKxz\"><button class=\"sc-bqyKOL sc-bQlsKK esiMbk cCTRUO atc-type-picanto atc-type-picanto--medium\" data-gui=\"gallery-share-button\"><span class=\"icon-svg\"><svg viewbox=\"0 0 24 24\" xmlns=\"http://www.w3.org/2000/svg\"><path d=\"M0 0h24v24H0V0z\" fill=\"none\"></path><path d=\"M8.04 14.2A2.99 2.99 0 0 1 3 12a3 3 0 0 1 5.04-2.2l6.99-4.37a3 3 0 1 1 .93 1.78l-6.99 4.36a3.03 3.03 0 0 1 0 .86l7 4.37A2.99 2.99 0 0 1 21 19a3 3 0 1 1-5.97-.43l-7-4.37zM18 6a1 1 0 1 0 0-2 1 1 0 0 0 0 2zM6 13a1 1 0 1 0 0-2 1 1 0 0 0 0 2zm12 7a1 1 0 1 0 0-2 1 1 0 0 0 0 2z\"></path></svg></span>Share</button></div><div class=\"sc-jVcspg EBKxz\"><button class=\"sc-bqyKOL sc-bQlsKK esiMbk cCTRUO atc-type-picanto atc-type-picanto--medium\" data-gui=\"save-advert-button\"><span class=\"icon-svg\"><svg height=\"24\" viewbox=\"0 0 24 24\" width=\"24\" xmlns=\"http://www.w3.org/2000/svg\">\n<path d=\"M0 0h24v24H0V0z\" fill=\"none\"></path>\n<path d=\"M18.51 10.47c.33-.72.49-1.4.49-2.06C19 6.43 17.7 5 16.05 5a3 3 0 0 0-1.63.5c-.32.22-.6.48-.83.78L12 8.34l-1.59-2.05A3.3 3.3 0 0 0 7.95 5C6.31 5 5 6.43 5 8.41c0 2.42 1.46 4.38 7 9.75 4.53-4.58 5.7-5.9 6.51-7.7zM12 5.07c.32-.36.55-.6.69-.72.5-.43.82-.6.8-.62A4.98 4.98 0 0 1 16.05 3C18.84 3 21 5.36 21 8.41c0 3.64-3.15 6.69-7.74 11.31L12 21l-1.26-1.28C6.06 15.2 3 12.15 3 8.41 3 5.36 5.16 3 7.95 3c.89 0 1.77.26 2.55.73-.01.02.29.18.8.62.13.12.37.36.7.72z\"></path>\n</svg>\n</span>Save</button></div></section></div><div class=\"sc-eLgNKc fcXySO\"><div class=\"sc-bTvSiT clgWPo\"><button aria-label=\"Previous thumbnails\" class=\"sc-kIeSZW hfMtXV\" disabled=\"\"><svg height=\"24\" viewbox=\"0 0 24 24\" width=\"24\" xmlns=\"http://www.w3.org/2000/svg\"><title>Previous Arrow</title><path d=\"M0 0h24v24H0V0z\" fill=\"none\"></path><path d=\"M8.3 18.3a1 1 0 0 0 1.4 1.4l7-7a1 1 0 0 0 0-1.4l-7-7a1 1 0 0 0-1.4 1.4l6.29 6.3-6.3 6.3z\" fill=\"#fff\" transform=\"matrix(-1 0 0 1 24 0)\"></path></svg></button><ol class=\"sc-hOqruk eGmodW\"><li class=\"sc-dtwnrN esbqGI\"><button aria-label=\"Image 1\" class=\"sc-jUEmfL ixJhxq\" data-testid=\"selected\" type=\"button\"><div class=\"sc-dacGJm fGeyru\"><img alt=\"\" src=\"https://m.atcdn.co.uk/a/media/w100h75/2ad3d5cc743e455883e549122376c36b.jpg\"/><i aria-label=\"Video Icon\" class=\"sc-jONnzC ckUrtj\" role=\"presentation\"><span class=\"icon-svg\"><svg viewbox=\"0 0 24 24\" xmlns=\"http://www.w3.org/2000/svg\"><path d=\"M0 0h24v24H0V0z\" fill=\"none\"></path><path d=\"M8 6.82v10.36a1 1 0 0 0 1.54.84l8.14-5.18a1 1 0 0 0 0-1.69L9.54 5.98A1 1 0 0 0 8 6.82z\"></path></svg></span></i></div></button></li><li class=\"sc-dtwnrN esbqGI\"><button aria-label=\"Image 2\" class=\"sc-jUEmfL dhGxRo\" type=\"button\"><div class=\"sc-dacGJm fGeyru\"><img alt=\"\" src=\"https://m.atcdn.co.uk/a/media/w100h75/2ad3d5cc743e455883e549122376c36b.jpg\"/></div></button></li><li class=\"sc-dtwnrN esbqGI\"><button aria-label=\"Image 3\" class=\"sc-jUEmfL dhGxRo\" type=\"button\"><div class=\"sc-dacGJm fGeyru\"><img alt=\"\" src=\"https://m.atcdn.co.uk/a/media/w100h75/1645f993f80f4bfb894eb9f30a3b72ba.jpg\"/></div></button></li><li class=\"sc-dtwnrN esbqGI\"><button aria-label=\"Image 4\" class=\"sc-jUEmfL dhGxRo\" type=\"button\"><div class=\"sc-dacGJm fGeyru\"><img alt=\"\" src=\"https://m.atcdn.co.uk/a/media/w100h75/b9b62655e6bf4d739537c26ab37928a2.jpg\"/></div></button></li><li class=\"sc-dtwnrN esbqGI\"><button aria-label=\"Image 5\" class=\"sc-jUEmfL dhGxRo\" type=\"button\"><div class=\"sc-dacGJm fGeyru\"><img alt=\"\" src=\"https://m.atcdn.co.uk/a/media/w100h75/5cc0a01d610f48e08fa895c60a365482.jpg\"/></div></button></li><li class=\"sc-dtwnrN esbqGI\"><button aria-label=\"Image 6\" class=\"sc-jUEmfL dhGxRo\" type=\"button\"><div class=\"sc-dacGJm fGeyru\"><img alt=\"\" src=\"https://m.atcdn.co.uk/a/media/w100h75/8bd2987203724ca5a937800fd93f6629.jpg\"/></div></button></li><li class=\"sc-dtwnrN esbqGI\"><button aria-label=\"Image 7\" class=\"sc-jUEmfL dhGxRo\" type=\"button\"><div class=\"sc-dacGJm fGeyru\"><img alt=\"\" src=\"https://m.atcdn.co.uk/a/media/w100h75/2fe0c64e72254808bd244fcde1b22f3d.jpg\"/></div></button></li></ol><button aria-label=\"Next thumbnails\" class=\"sc-kIeSZW gXLodx\"><svg height=\"24\" viewbox=\"0 0 24 24\" width=\"24\" xmlns=\"http://www.w3.org/2000/svg\"><title>Next Arrow</title><path d=\"M0 0h24v24H0V0z\" fill=\"none\"></path><path d=\"M8.3 18.3a1 1 0 0 0 1.4 1.4l7-7a1 1 0 0 0 0-1.4l-7-7a1 1 0 0 0-1.4 1.4l6.29 6.3-6.3 6.3z\" fill=\"#fff\"></path></svg></button></div></div></div></section><section class=\"sc-citxvW cYzqQI\"><div class=\"sc-bZSRNg jzKUQY\"><h2 class=\"sc-jcVcSv hnyKii atc-type-insignia atc-type-insignia--medium\" data-gui=\"overviewTitle\">Overview</h2></div><span class=\"sc-dOSRxR eLPYFI atc-type-toledo atc-type-toledo--medium\"><span class=\"icon-svg\"><svg height=\"47\" id=\"ks-mileage\" preserveaspectratio=\"xMinYMin\" viewbox=\"0 0 24 24\" width=\"47\" xmlns=\"http://www.w3.org/2000/svg\">\n<path d=\"M0 0h24v24H0V0z\" fill=\"none\"></path>\n<path d=\"M7.71 7.25l.87 1.2a.5.5 0 0 1-.8.59l-.88-1.2a8.02 8.02 0 0 0-2.34 3.22l1.41.46a.5.5 0 1 1-.3.95L4.24 12a8.01 8.01 0 0 0 0 3.98l1.41-.46a.5.5 0 0 1 .31.95l-1.46.48a1 1 0 0 1-1.94.37A9.99 9.99 0 0 1 12 4a10 10 0 0 1 9.43 13.33 1 1 0 0 1-1.94-.37l-1.46-.48a.5.5 0 1 1 .3-.95l1.42.46a8.02 8.02 0 0 0 0-3.98l-1.41.46a.5.5 0 0 1-.31-.95l1.41-.46a8.02 8.02 0 0 0-2.34-3.23l-.87 1.2a.5.5 0 1 1-.81-.58l.87-1.2a7.95 7.95 0 0 0-3.79-1.23V7.5a.5.5 0 1 1-1 0V6.02a7.95 7.95 0 0 0-3.79 1.23zM9 18h6a1 1 0 0 1 0 2H9a1 1 0 0 1 0-2zm3.2-2.8a1 1 0 0 1-1.4-1.4l4.2-3.5a.5.5 0 1 1 .7.7l-3.5 4.2z\"></path>\n</svg></span><span class=\"sc-bBrNTY kVnUNm\" data-testid=\"mileage\">6,699 miles</span></span><span class=\"atc-type-picanto atc-type-picanto--medium\">10,025 miles</span><span class=\"atc-type-picanto\"> below average</span><button class=\"sc-bqyKOL sc-kstqJO esiMbk hgflJG\"><span class=\"icon-svg\"><svg height=\"24\" viewbox=\"0 0 24 24\" width=\"24\" xmlns=\"http://www.w3.org/2000/svg\"><path d=\"M12 5a7 7 0 1 0 0 14 7 7 0 0 0 0-14zm0-2a9 9 0 1 1 0 18 9 9 0 0 1 0-18zm0 5a1 1 0 1 0 0 2 1 1 0 0 0 0-2zm0 3a1 1 0 0 0-1 1v3a1 1 0 0 0 2 0v-3a1 1 0 0 0-1-1z\"></path></svg></span></button><ul aria-label=\"Key Specifications\" class=\"sc-eggMyH PfJoR\" data-gui=\"key-specs-section\"><li class=\"sc-cTkxnA iToUWO atc-type-fiesta\"><span class=\"icon-svg\"><svg viewbox=\"0 0 24 24\" xmlns=\"http://www.w3.org/2000/svg\">\n<g fill=\"#\">\n<path d=\"M0 0h24v24H0V0z\" fill=\"none\"></path>\n<path d=\"M20.65 11l.35 1v8a1 1 0 0 1-1 1h-1a1 1 0 0 1-1-1v-1H6v1a1 1 0 0 1-1 1H4a1 1 0 0 1-1-1v-8l.35-1H3a1 1 0 0 1 0-2h1.04l1.04-2.99A1.5 1.5 0 0 1 6.5 5h11c.66 0 1.22.42 1.42 1.01L19.96 9H21a1 1 0 0 1 0 2h-.35zM6.85 7l-1.08 3.11h12.45L17.14 7H6.85zM19 17v-5H5v5h14zM7.5 16a1.5 1.5 0 1 1 0-3 1.5 1.5 0 0 1 0 3zm9 0a1.5 1.5 0 1 1 0-3 1.5 1.5 0 0 1 0 3z\"></path>\n</g>\n</svg>\n</span>Coupe</li><li class=\"sc-cTkxnA iToUWO atc-type-fiesta\"><span class=\"icon-svg\"><svg viewbox=\"0 0 24 24\" xmlns=\"http://www.w3.org/2000/svg\">\n<g fill=\"#\">\n<path d=\"M0 0h24v24H0V0z\" fill=\"none\"></path>\n<path d=\"M5 14H4v1a1 1 0 0 1-2 0v-4a1 1 0 0 1 2 0v1h1v-2h1l1.7-1.7a1 1 0 0 1 .71-.3H11V7h-1a1 1 0 1 1 0-2h4a1 1 0 0 1 0 2h-1v1h1.76a2 2 0 0 1 1.8 1.1L18 12h2v-1h1s1-.41 1 4c0 4-1 4-1 4h-1v-2h-2v1a1 1 0 0 1-1 1h-7a2 2 0 0 1-1.6-.8L6 15H5v-1zm2-1l3 4h6v-1a1 1 0 0 1 1-1h3v-1h-2.62a1 1 0 0 1-.9-.56l-1.71-3.43H8.84L7 11.82V13z\"></path>\n</g>\n</svg>\n</span>4.0L</li><li class=\"sc-cTkxnA iToUWO atc-type-fiesta\"><span class=\"icon-svg\"><svg viewbox=\"0 0 24 24\" xmlns=\"http://www.w3.org/2000/svg\"><path d=\"M0 0h24v24H0V0z\" fill=\"none\"></path><path d=\"M6 11h5V6.73a2 2 0 112 0V11h4a1 1 0 001-1V6.73a2 2 0 112 0V10a3 3 0 01-3 3h-4v4.27a2 2 0 11-2 0V13H6v4.27a2 2 0 11-2 0V6.73a2 2 0 112 0V11z\"></path></svg></span>Manual</li><li class=\"sc-cTkxnA iToUWO atc-type-fiesta\"><span class=\"icon-svg\"><svg enable-background=\"new 0 0 28 30\" viewbox=\"0 0 28 30\" xmlns=\"http://www.w3.org/2000/svg\"><path d=\"m12.1 3.1h-3.8c-1.3 0-2.3 1.1-2.3 2.3v9.6c0 1.3 1 2.3 2.3 2.3h3.8c1.3 0 2.3-1 2.3-2.3v-9.6c0-1.2-1-2.3-2.3-2.3zm.6 2.3v9.6c0 .3-.3.6-.6.6h-3.8c-.3 0-.6-.3-.6-.6v-9.6c0-.3.3-.6.6-.6h3.8c.3.1.6.3.6.6z\"></path><path d=\"m27.5 5.3-2.9-2.9-.1-.1c-.4-.3-.9-.3-1.2.1-.2.2-.2.4-.2.6s.1.4.3.6l2.6 2.6v19.3c0 .3-.3.6-.6.6s-.6-.3-.6-.6v-10c0-1-.8-1.8-1.8-1.8h-4.9v-11.1c0-1.3-1-2.3-2.3-2.3h-11.4c-1.3 0-2.3 1-2.3 2.3v21.7c-1.1.2-1.9 1.1-1.9 2.3v1c0 1.3 1 2.3 2.3 2.3h15.3c1.3 0 2.3-1 2.3-2.3v-1c0-1.1-.8-2.1-1.9-2.3v-8.8h4.9c.1 0 .1 0 .1.1v10.1c0 1.3 1 2.3 2.3 2.3s2.3-1 2.3-2.3v-19.8c0-.2-.1-.5-.3-.6zm-23.6 18.9v-21.6c0-.4.2-.6.5-.6h11.5c.3 0 .6.3.6.6v21.6zm14.5 2.3v1c0 .3-.3.6-.6.6h-15.3c-.3 0-.6-.3-.6-.6v-1c0-.3.3-.6.6-.6h15.3c.3 0 .6.3.6.6z\"></path></svg></span>Petrol</li><li class=\"sc-cTkxnA iToUWO atc-type-fiesta\"><span class=\"icon-svg\"><svg viewbox=\"0 0 24 24\" xmlns=\"http://www.w3.org/2000/svg\">\n<g fill=\"#\">\n<path d=\"M0 0h24v24H0V0z\" fill=\"none\"></path><path d=\"M4 11h16v2H4v-2zm2 3.5c0-.28.22-.5.5-.5h2a.5.5 0 0 1 0 1h-2a.5.5 0 0 1-.5-.5zm11-8.27l4 5.07v2.71s-2.55.46-3.6 1.79c-1.16 1.33-1.2 3-1.2 3-.16.7-.14 1.2-.77 1.2h-9.9c-.63 0-.8-.53-1.15-1.23 0 0-1.38-3.46-1.38-6.93V6.23C3 5.6 3.53 5.1 4.16 5h11.16c.63 0 1.15.4 1.68 1.23zM5 7v4.84c0 1.31.23 3.24.6 4.5A14.23 14.23 0 0 0 6.23 18h8.1c.04-.18.1-.37.17-.58.28-.77.28-1.62 1.34-2.86a6.16 6.16 0 0 1 2.3-1.71c.3-.14.59-.26.87-.36V12l-3.57-4.53-.11-.15a2.82 2.82 0 0 0-.23-.31H5z\"></path></g>\n</svg>\n</span>2 doors</li><li class=\"sc-cTkxnA iToUWO atc-type-fiesta\"><span class=\"icon-svg\"><svg viewbox=\"0 0 24 24\" xmlns=\"http://www.w3.org/2000/svg\">\n<g fill=\"#\">\n<path d=\"M0 0h24v24H0V0z\" fill=\"none\"></path><path d=\"M16.9 8.34c-.98-.02-1.93-.88-2.26-2.13-.39-1.44.2-2.85 1.32-3.15 1.12-.3 2.34.62 2.72 2.07.36 1.35-.14 2.68-1.12 3.08V9c.6 0 1.14.75 1.14 1.18 0 .43 0 .43-.02.64a66.68 66.68 0 0 0-.52 6.57c0 1.4-.16 3.61-3 3.61H6.2c-.6-.2-1-.6-1.2-1.2a10.76 10.76 0 0 1 0-3c.2-.4 1.2-.6 2.99-.6 2.7 0 3.59 1.2 4.78 1.2.8 0 1.2-.2 1.2-.6v-4.82c0-1 .6-2.38 1.8-2.98.15-.06.46-.06.92 0l.2-.66z\"></path>\n</g>\n</svg>\n</span>4 seats</li><li class=\"sc-cTkxnA iToUWO atc-type-fiesta\"><span class=\"icon-svg\"><svg height=\"24\" viewbox=\"0 0 15 12\" width=\"24\" xmlns=\"http://www.w3.org/2000/svg\"><path d=\"m13.4.5-7.76 7.78-3.54-3.54-1.43 1.42 4.95 4.95 9.2-9.2z\" fill-rule=\"evenodd\"></path></svg></span>ULEZ<button class=\"sc-bqyKOL sc-kstqJO esiMbk hgflJG\"><span class=\"icon-svg\"><svg height=\"24\" viewbox=\"0 0 24 24\" width=\"24\" xmlns=\"http://www.w3.org/2000/svg\"><path d=\"M12 5a7 7 0 1 0 0 14 7 7 0 0 0 0-14zm0-2a9 9 0 1 1 0 18 9 9 0 0 1 0-18zm0 5a1 1 0 1 0 0 2 1 1 0 0 0 0-2zm0 3a1 1 0 0 0-1 1v3a1 1 0 0 0 2 0v-3a1 1 0 0 0-1-1z\"></path></svg></span></button></li></ul></section><section class=\"sc-gYhhMS kAgjfD\"><h3 class=\"sc-kHNMIv eCPmWV atc-type-insignia atc-type-insignia--medium\" data-gui=\"advert-description-title\">Description</h3><p class=\"sc-cVksOY dSKfxx atds-type-picanto\">Black Exterior Paint with Black Leather &amp; Red Alcantara Interior- Number 231 of 600 Worldwide - Raw, Driver Focused GT3RS 4.0L - Clubsport Package Example - 2 Owners From New - RHD Example - UK Supplied, Optional Extras:, 19-Inch GT3 Alloy Wheels Painted in Black with Central Locking Wheel Nuts…</p><button class=\"sc-bqyKOL sc-dkaWRx sc-ksXiFW esiMbk YsGFr cBIrlh atc-type-picanto atc-type-picanto--medium\">Read more</button></section><div></div></article><aside class=\"sc-eGCaLh eFfnAn\"><section class=\"sc-eJCack iwAeds\"><a class=\"sc-gJryWy kCHDTB\" href=\"#click-and-collect-expander\">Click and Collect</a><a class=\"sc-gJryWy kCHDTB\" href=\"#covid19-expander\">COVID-19 safety measures</a></section><section class=\"sc-cOajNj hCDJRH\"><h1 class=\"sc-khAkCZ htgeLM atc-type-insignia atc-type-insignia--medium\" data-testid=\"advert-title\">Porsche 911</h1><p class=\"sc-hTZgZg eAYTJG atc-type-toledo\">2011 (61 reg)</p><p class=\"sc-jgHCSr gbFQFM atc-type-fiesta\" data-testid=\"advert-subtitle\">4.0 997 GT3 RS 2dr</p><div class=\"sc-laRQdt ksVvJt\"><div class=\"sc-iNqMzA doiQTs\"><h2 class=\"sc-gTgzoy dRYgqV\" data-testid=\"advert-price\">£459,950</h2></div><div class=\"sc-jeGTLq hpzEcH\"><button class=\"sc-bqyKOL esiMbk\"></button></div></div><ul class=\"sc-dwfUuu doaqeG\"><li><a class=\"sc-crrszt hjJsMP atds-button atds-type-fiesta\" data-gui=\"dealer-email-button\" href=\"/contact-dealer/309178/202105202850513?model=911&amp;onesearchad=New&amp;onesearchad=Nearly%20New&amp;onesearchad=Used&amp;make=Porsche&amp;radius=1500&amp;year-to=2021&amp;include-delivery-option=on&amp;postcode=bh205lg&amp;sort=price-desc&amp;advertising-location=at_cars&amp;page=1\" rel=\"external\">Message seller</a></li></ul><div class=\"sc-iOTqAP kUmZaW\"><div class=\"sc-gmmXAg buiDuF\"><div>Car price</div><div data-testid=\"price-value\">£459,950</div></div><div class=\"sc-gmmXAg buiDuF\"><div class=\"sc-fEpNGT jqgoiv\"><button class=\"sc-gpsBpD dkqpwC\" data-gui=\"showAdminFees\">Seller's admin fee <span class=\"icon-svg\"><svg height=\"24\" viewbox=\"0 0 24 24\" width=\"24\" xmlns=\"http://www.w3.org/2000/svg\"><path d=\"M12 5a7 7 0 1 0 0 14 7 7 0 0 0 0-14zm0-2a9 9 0 1 1 0 18 9 9 0 0 1 0-18zm0 5a1 1 0 1 0 0 2 1 1 0 0 0 0-2zm0 3a1 1 0 0 0-1 1v3a1 1 0 0 0 2 0v-3a1 1 0 0 0-1-1z\"></path></svg></span></button></div><div data-testid=\"admin-fee-text\">No fees</div></div><div class=\"sc-gmmXAg dPfNoI\"><div>Total price</div><div data-testid=\"total-price-value\">£459,950</div></div></div></section><p class=\"sc-jLiVFv conktV atc-type-picanto\">No. 231 of 600 | Low Miles</p><div class=\"sc-iumJeC jqsxor\"><span class=\"atc-signpost atc-signpost--secondary atc-signpost--forward atc-type-fiesta atc-type-picanto atc-type-picanto--medium\" role=\"button\" tabindex=\"-1\">Extra features<svg class=\"atc-signpost__icon\" viewbox=\"0 0 13 12\"><path d=\"M3.4 5H12c.55 0 1 .45 1 1s-.45 1-1 1H3.4l3.3 3.3c.4.38.4 1.02 0 1.4s-1.02.4-1.4 0l-5-5c-.4-.38-.4-1.02 0-1.4l5-5c.38-.4 1.02-.4 1.4 0s.4 1.02 0 1.4L3.4 5z\"></path></svg></span></div><section class=\"sc-bQdRvg dLeREW\"><div class=\"sc-fXoxaI dVaKzc\"><img alt=\"Seller Logo\" class=\"sc-jXktde kMRUdJ\" data-gui=\"dealer-logo\" src=\"https://dealerlogo.atcdn.co.uk/at2/adbranding/309178/images/fpa_logo.gif\" width=\"300\"/><a class=\"sc-fFYUIl hGaSyy atc-type-toledo atc-type-toledo--medium\" data-testid=\"advert-seller-name\" href=\"/dealers/surrey/banstead/romans-international-309178?channel=cars\">Romans International</a><a class=\"sc-iitrMj ufQLr\" href=\"/dealers/surrey/banstead/romans-international-309178?channel=cars#reviews\"><section class=\"p-star-rating\"><div class=\"p-star-rating__stars\"><div class=\"atc-star-rating atc-star-rating--seller atc-star-rating--small\"><div class=\"atc-star-rating__fill\" style=\"width: 100%;\"></div></div></div><span class=\"p-star-rating__rating atc-type-fiesta atc-type-fiesta--medium\">5.0</span><span class=\"p-star-rating__count atc-type-picanto\">(159 reviews)</span></section></a><div class=\"sc-eFuaqX cJHFEZ\"><div class=\"sc-fKFxtB eOFGke\"><a class=\"sc-bqyKOL sc-iwyWTf esiMbk fzlHCM atc-type-fiesta atc-type-fiesta--medium\" data-gui=\"dealer-website-button\" href=\"http://www.romansinternational.com\" rel=\"external noopener\" target=\"_blank\"><span class=\"icon-svg\"><svg viewbox=\"0 0 24 24\" xmlns=\"http://www.w3.org/2000/svg\">\n<path d=\"M0 0h24v24H0V0z\" fill=\"none\"></path>\n<path d=\"M19 19H5V5h4a1 1 0 1 0 0-2H5a2 2 0 0 0-2 2v14a2 2 0 0 0 2 2h14a2 2 0 0 0 2-2v-4a1 1 0 0 0-2 0v4zM14 4a1 1 0 0 0 1 1h2.59l-7.13 7.13a1 1 0 0 0 1.41 1.41L19 6.4V9a1 1 0 0 0 2 0V4a1 1 0 0 0-1-1h-5a1 1 0 0 0-1 1z\"></path>\n</svg>\n</span>Visit website</a></div></div><ul class=\"sc-FyeoB ixFkwK\"><li><a class=\"sc-dYzmtA bBZkcf atc-type-fiesta atc-type-fiesta--medium\" data-gui-test=\"dealerPhoneNumber\" href=\"tel:01737483531\"><span class=\"sc-eUWgZB CRlNk\"><span class=\"icon-svg\">\n<svg height=\"20\" id=\"Layer_1\" style=\"enable-background:new 0 0 20 20;\" version=\"1.1\" viewbox=\"0 0 20 20\" width=\"20\" x=\"0px\" xml:space=\"preserve\" xmlns=\"http://www.w3.org/2000/svg\" xmlns:xlink=\"http://www.w3.org/1999/xlink\" y=\"0px\">\n<path d=\"M14.9,13.2c-0.3-0.1-0.8,0-1.1,0.2l-2.4,2.4C8.2,14.3,5.7,11.7,4,8.6l2.4-2.4C6.8,5.8,6.9,5.3,6.7,5\n\tC6.3,3.8,6.1,2.4,6.1,1.1C6.1,0.4,5.7,0,5,0H1.1C0.4,0,0,0.4,0,1.1C0,11.6,8.4,20,18.9,20c0.7,0,1.1-0.4,1.1-1.1V15\n\tc0-0.7-0.4-1.1-1.1-1.1C17.6,13.9,16.2,13.7,14.9,13.2z\"></path>\n</svg>\n</span></span>(01737) 483531</a></li></ul><ul class=\"sc-FyeoB ixFkwK\"><li class=\"sc-kKXAKc erQFTi\"><button class=\"sc-bqyKOL sc-hTZspN esiMbk ghctDa atc-type-fiesta atc-type-fiesta--medium\" data-testid=\"profile-text-cta\"><span class=\"icon-svg\"><svg viewbox=\"0 0 20 20\" xmlns=\"http://www.w3.org/2000/svg\">\n<defs></defs>\n<path d=\"M10 0C4.5 0 0 4 0 9c0 1.4.3 2.7.9 3.8L.1 20l5.8-2.8c1.2.5 2.6.8 4.1.8 5.5 0 10-4 10-9s-4.5-9-10-9zm0 16c-1.5 0-3-.4-4.2-1l-.3.1-1.8.9-1.2.6.2-1.5.3-2.6v-.1c-.6-1-1-2.2-1-3.4 0-3.8 3.5-7 8-7s8 3.2 8 7-3.5 7-8 7z\"></path>\n<circle cx=\"6\" cy=\"9\" r=\"1\"></circle>\n<circle cx=\"10\" cy=\"9\" r=\"1\"></circle>\n<circle cx=\"14\" cy=\"9\" r=\"1\"></circle>\n</svg>\n</span>Text</button></li><li><button class=\"sc-bqyKOL sc-hTZspN esiMbk cfnpgF atc-type-fiesta atc-type-fiesta--medium\" data-testid=\"profile-chat-cta\"><span class=\"icon-svg\"><svg viewbox=\"0 0 20 20\" xmlns=\"http://www.w3.org/2000/svg\">\n<defs></defs>\n<path d=\"M2 15.2L3.2 14H18V2H2v13.2zM18 0c1.1 0 2 .9 2 2v12c0 1.1-.9 2-2 2H4l-4 4V2C0 .9.9 0 2 0h16zm-3 7c.6 0 1 .4 1 1s-.4 1-1 1H5c-.5 0-1-.4-1-1s.4-1 1-1h10zM5 12c-.6 0-1-.4-1-1s.4-1 1-1h6c.6 0 1 .4 1 1s-.4 1-1 1H5zm0-6c-.5 0-1-.4-1-1s.4-1 1-1h10c.6 0 1 .4 1 1s-.4 1-1 1H5z\"></path>\n</svg>\n</span>Chat</button></li></ul><div class=\"sc-gWHigU gTRXJD\"><ul class=\"sc-FyeoB ixFkwK\"><li><button class=\"sc-bqyKOL sc-iwyWTf esiMbk fzlHCM atc-type-fiesta atc-type-fiesta--medium\" data-gui=\"location-map-link\"><span class=\"icon-svg\"><svg viewbox=\"0 0 24 24\" xmlns=\"http://www.w3.org/2000/svg\">\n<path d=\"M0 0h24v24H0V0z\" fill=\"none\"></path>\n<path d=\"M14.41 16.23a26.29 26.29 0 0 0 2.56-3.92A7.83 7.83 0 0 0 18 9c0-2.75-2.57-5-6-5S6 6.25 6 9c0 .85.35 1.99 1.03 3.31.63 1.22 1.5 2.55 2.56 3.92.76 1 1.58 1.97 2.41 2.87.83-.9 1.65-1.87 2.41-2.87zM12 2c4.5 0 8 3.1 8 7 0 5.2-8 13-8 13S4 14.2 4 9c0-3.9 3.5-7 8-7zm0 11c1.9 0 3.5-1.6 3.5-3.5S13.9 6 12 6 8.5 7.6 8.5 9.5 10.1 13 12 13zm0-2c-.8 0-1.5-.7-1.5-1.5S11.2 8 12 8s1.5.7 1.5 1.5S12.8 11 12 11z\"></path>\n</svg>\n</span>Location map<span class=\"sc-iktFfs esJvDh\"><span class=\"icon-svg\"><svg viewbox=\"0 0 24 24\" xmlns=\"http://www.w3.org/2000/svg\">\n<path d=\"M0 0h24v24H0V0z\" fill=\"none\"></path>\n<path d=\"M9.3 15.3a1 1 0 0 0 1.4 1.4l4-4a1 1 0 0 0 0-1.4l-4-4a1 1 0 0 0-1.4 1.4l3.29 3.3-3.3 3.3z\" transform=\"rotate(90 12 12)\"></path>\n</svg>\n</span></span></button></li><li><a class=\"sc-bqyKOL sc-iwyWTf esiMbk fzlHCM atc-type-fiesta atc-type-fiesta--medium\" href=\"http://www.romansinternational.com\" rel=\"external noopener\" target=\"_blank\"><span class=\"icon-svg\"><svg viewbox=\"0 0 24 24\" xmlns=\"http://www.w3.org/2000/svg\">\n<path d=\"M0 0h24v24H0V0z\" fill=\"none\"></path>\n<path d=\"M19 19H5V5h4a1 1 0 1 0 0-2H5a2 2 0 0 0-2 2v14a2 2 0 0 0 2 2h14a2 2 0 0 0 2-2v-4a1 1 0 0 0-2 0v4zM14 4a1 1 0 0 0 1 1h2.59l-7.13 7.13a1 1 0 0 0 1.41 1.41L19 6.4V9a1 1 0 0 0 2 0V4a1 1 0 0 0-1-1h-5a1 1 0 0 0-1 1z\"></path>\n</svg>\n</span>Visit website</a></li></ul><div class=\"sc-giImIA fgmDjE\" hidden=\"\"><div class=\"sc-ezredP kBDuqc\"><p class=\"sc-bYEvvW jIJlwp atc-type-fiesta\">Brighton Road, Surrey, SM7 1AT</p><button class=\"sc-bqyKOL sc-iwyWTf esiMbk fzlHCM atc-type-fiesta atc-type-fiesta--medium\">Get directions</button></div><div class=\"sc-fmlJrY LGQnf\"><p class=\"sc-ljRaeN HA-DPg atc-type-smart atc-type-smart--medium\"><span class=\"icon-svg\"><svg viewbox=\"0 0 24 24\" xmlns=\"http://www.w3.org/2000/svg\">\n<path d=\"M0 0h24v24H0V0z\" fill=\"none\"></path>\n<path d=\"M10.01 21.01h3.98a1.99 1.99 0 1 1-3.98 0zm8.87-4.19L21 18.94V20H3v-1.06l2.12-2.12V11a6.87 6.87 0 0 1 5.29-6.69v-.72a1.59 1.59 0 1 1 3.18 0v.72A6.87 6.87 0 0 1 18.88 11v5.82zm-2 .83V11a4.87 4.87 0 0 0-3.75-4.74L12 5.99l-1.13.27A4.87 4.87 0 0 0 7.12 11v6.65l-.35.35h10.46l-.35-.35z\"></path>\n</svg>\n</span><span>COVID-19 update</span></p><p class=\"sc-jmhFuu iJJhXL atc-type-smart\">Some dealerships may be operating an appointment-only system. Please check with your dealership before visiting, and refer to your local COVID-19 guidelines.</p></div></div></div><div class=\"sc-cBNeex cpFfTH\"><ul class=\"sc-FyeoB ixFkwK\"><li><button class=\"sc-bqyKOL sc-iwyWTf esiMbk fzlHCM atc-type-fiesta atc-type-fiesta--medium\" data-gui-test=\"dealerLocationLink\"><span class=\"icon-svg\"><svg viewbox=\"0 0 24 24\" xmlns=\"http://www.w3.org/2000/svg\">\n<path d=\"M0 0h24v24H0V0z\" fill=\"none\"></path>\n<path d=\"M14.41 16.23a26.29 26.29 0 0 0 2.56-3.92A7.83 7.83 0 0 0 18 9c0-2.75-2.57-5-6-5S6 6.25 6 9c0 .85.35 1.99 1.03 3.31.63 1.22 1.5 2.55 2.56 3.92.76 1 1.58 1.97 2.41 2.87.83-.9 1.65-1.87 2.41-2.87zM12 2c4.5 0 8 3.1 8 7 0 5.2-8 13-8 13S4 14.2 4 9c0-3.9 3.5-7 8-7zm0 11c1.9 0 3.5-1.6 3.5-3.5S13.9 6 12 6 8.5 7.6 8.5 9.5 10.1 13 12 13zm0-2c-.8 0-1.5-.7-1.5-1.5S11.2 8 12 8s1.5.7 1.5 1.5S12.8 11 12 11z\"></path>\n</svg>\n</span> Location map</button></li><li><button class=\"sc-bqyKOL sc-iwyWTf esiMbk fzlHCM atc-type-fiesta atc-type-fiesta--medium\" data-gui-test=\"dealerDirectionsLink\"><span class=\"icon-svg\"><svg viewbox=\"0 0 24 24\" xmlns=\"http://www.w3.org/2000/svg\">\n<path d=\"M0 0h24v24H0V0z\" fill=\"none\"></path>\n<path d=\"M22.43 10.59l-9.01-9.01a2.05 2.05 0 0 0-2.83 0l-9 9a2 2 0 0 0 0 2.82l9 9c.39.39.9.58 1.41.58.51 0 1.02-.19 1.41-.58l8.99-8.99a2 2 0 0 0 .03-2.82zm-10.42 10.4l-9-9 9-9 9 9-9 9zM8 11v3a1 1 0 0 0 2 0v-2h4v1.3a.5.5 0 0 0 .85.35l2.3-2.3a.5.5 0 0 0 0-.7l-2.3-2.3a.5.5 0 0 0-.85.36V10H9a1 1 0 0 0-1 1z\"></path>\n</svg>\n</span> Get directions</button></li></ul></div></div></section><section class=\"sc-fZnosR crgEax\" data-gui=\"db-container\" data-testid=\"deal-builder\" id=\"deal-builder\"><h3 class=\"sc-hgAvOL kxjPNz atc-type-toledo atc-type-toledo--medium\">Buy this car</h3><div class=\"sc-cRnZOa cnflbY\"><div><ul class=\"tabs atc-type-picanto atc-type-picanto--medium atc-tab-group\" role=\"tablist\"><li class=\"atc-tab atc-tab--selected\" data-gui=\"db-tab-heading-total-price\" id=\"db-tab-1-tab\" role=\"presentation\"><span aria-controls=\"db-tab-1\" aria-selected=\"true\" class=\"atc-tab__link\" role=\"tab\"><span aria-label=\"Total Price\" class=\"sc-gRJRMm emgIlV\">Total Price £459,950</span></span></li></ul><section aria-labelledby=\"db-tab-1-tab\" class=\"tabs--active\" id=\"db-tab-1\" role=\"tabpanel\"><div class=\"sc-cnXfEn UoeHe\"><section class=\"sc-bfeVgT ectqwL\" data-gui=\"partex-receipt\" data-testid=\"partex-receipt\"><div class=\"sc-eDJueK hpCqKv\"><dl class=\"atc-receipt\"><div class=\"atc-receipt__row atc-type-picanto\"><dt class=\"atc-receipt__term\"><div data-testid=\"partex-receipt-term\">Part exchange your vehicle</div></dt><dd class=\"atc-receipt__value\"><a aria-label=\"Add Part Exchange Vehicle\" class=\"sc-fZOVwu idDGJ\" data-gui=\"db-partex-add\" href=\"/part-ex-guide?advertId=202105202850513&amp;advertising-location=at_cars&amp;selectedDid=309178&amp;originSourceName=advert&amp;originLocation=deal-builder-total-price-part-exchange&amp;advertUrl=%2Fcar-details%2F202105202850513&amp;originUri=%2Fcar-details%2F202105202850513%3Fmodel%3D911%26onesearchad%3DNew%26onesearchad%3DNearly%2520New%26onesearchad%3DUsed%26make%3DPorsche%26radius%3D1500%26year-to%3D2021%26include-delivery-option%3Don%26postcode%3Dbh205lg%26sort%3Dprice-desc%26advertising-location%3Dat_cars%26page%3D1%26revisit%3Dtrue\"><span class=\"icon-svg\"><svg viewbox=\"0 0 24 24\" xmlns=\"http://www.w3.org/2000/svg\">\n<path d=\"M0 0h24v24H0V0z\" fill=\"none\"></path>\n<path d=\"M12 22a10 10 0 1 1 0-20 10 10 0 0 1 0 20zm0-2a8 8 0 1 0 0-16 8 8 0 0 0 0 16zm1-9h4a1 1 0 0 1 0 2h-4v4a1 1 0 0 1-2 0v-4H7a1 1 0 0 1 0-2h4V7a1 1 0 0 1 2 0v4z\"></path>\n</svg>\n</span></a></dd></div></dl></div></section><div class=\"sc-bHXGc jMPiVa\"><dl class=\"atc-receipt\"><div class=\"atc-receipt__row atc-receipt__row--total\"><dt class=\"atc-receipt__term\">Total to pay</dt><dd class=\"atc-receipt__value\">£459,950</dd></div></dl></div><div class=\"sc-jExXRO josLIL\"><a class=\"sc-crrszt ceopXP atds-button atds-type-fiesta\" data-gui=\"db-link-contact\" href=\"/contact-dealer/309178/202105202850513?advertising-location=at_cars&amp;include-delivery-option=on&amp;make=Porsche&amp;model=911&amp;onesearchad=New&amp;onesearchad=Nearly%20New&amp;onesearchad=Used&amp;page=1&amp;postcode=bh205lg&amp;radius=1500&amp;sort=price-desc&amp;year-to=2021&amp;journey=natural&amp;leadType=fpatdb&amp;advertUrl=%2Fcar-details%2F202105202850513&amp;backLinkParams=advertising-location%3Dat_cars%26include-delivery-option%3Don%26make%3DPorsche%26model%3D911%26onesearchad%3DNew%26onesearchad%3DNearly%2520New%26onesearchad%3DUsed%26page%3D1%26postcode%3Dbh205lg%26radius%3D1500%26sort%3Dprice-desc%26year-to%3D2021%26journey%3Dnatural%26revisit%3Dtrue&amp;condition=used&amp;hasPartEx=false&amp;isDealBuilder=true&amp;originUri=%2Fcar-details%2F202105202850513%3Fadvertising-location%3Dat_cars%26include-delivery-option%3Don%26make%3DPorsche%26model%3D911%26onesearchad%3DNew%26onesearchad%3DNearly%2520New%26onesearchad%3DUsed%26page%3D1%26postcode%3Dbh205lg%26radius%3D1500%26sort%3Dprice-desc%26year-to%3D2021%26revisit%3Dtrue&amp;selectedDid=309178&amp;includeFinanceInfo=false\" rel=\"external\">Enquire now</a></div></div></section></div></div></section><ul class=\"sc-XhUvE iOlmUB\" data-gui=\"ms-ctm-insurance-section\" data-testid=\"ms-ctm-insurance-section\"><li class=\"sc-fHuLxr fkRVEd\"><span class=\"icon-svg\"><svg viewbox=\"0 0 48 48\" xmlns=\"http://www.w3.org/2000/svg\">\n<path d=\"m28.8 3.8h4.5v1.9h6.4c.7.1 1.3.6 1.3 1.3v39.7c0 .7-.6 1.3-1.3 1.3h-30.7c-.7 0-1.3-.6-1.3-1.3v-39.7c0-.7.6-1.3 1.3-1.3h6.4v-1.9h4.5c.3-2.1 2.2-3.8 4.4-3.8s4.2 1.7 4.5 3.8zm-19.8 42.9h30.7v-39.7h-6.4v3.2h-17.9v-3.2h-6.4zm18.5-42.2c0-1.8-1.4-3.2-3.2-3.2s-3.2 1.4-3.2 3.2v.6h-4.5v3.9h15.4v-3.9h-4.5z\" fill=\"#242d3d\"></path>\n<path d=\"m14.7 18.9-1.7-1.7-.9.9 2.1 2.1c.1.1.3.2.5.2s.3-.1.5-.2l4.7-4.7-.9-.8zm0 5.8-1.6-1.7-.9.9 2.1 2.1c.1.1.3.2.5.2s.3-.1.5-.2l4.7-4.7-1-.8zm-1.6 4.1 1.7 1.7 4.2-4.2.9.9-4.7 4.7c-.1.1-.3.2-.5.2s-.3-.1-.5-.2l-2.1-2.1z\" fill=\"#4871d9\"></path>\n<path d=\"m36.5 17.9h-14.7v-1.3h14.7zm-14.7 2.6h7v-1.3h-7zm14.7 8.9h-14.7v-1.3h14.7zm-14.7 2.6h7v-1.3h-7zm14.7 3.2h-14.7v-1.3h14.7zm-14.7 2.6h7v-1.3h-7zm14.7 3.2h-14.7v-1.3h14.7zm-7.7 2.5h-7v-1.3h7zm-7-17.3h7v-1.2h-7zm14.7-2.5h-14.7v-1.3h14.7z\" fill=\"#fff\"></path>\n<path d=\"m36.5 17.9h-14.7v-1.3h14.7zm-14.7 2.6h7v-1.3h-7zm14.7 8.9h-14.7v-1.3h14.7zm-14.7 2.6h7v-1.3h-7zm14.7 3.2h-14.7v-1.3h14.7zm-14.7 2.6h7v-1.3h-7zm14.7 3.2h-14.7v-1.3h14.7zm-7.7 2.5h-7v-1.3h7zm-7-17.3h7v-1.2h-7zm14.7-2.5h-14.7v-1.3h14.7z\" fill=\"#4871d9\" fill-opacity=\".5\"></path>\n</svg>\n</span><p><a class=\"sc-tYqdw ctYnwn atc-type-toledo atc-type-toledo--medium\" href=\"/redirect/advert/202105202850513/SC/279/\">Check its full history</a></p><p>Get peace of mind before you buy this car</p><div class=\"sc-dtTHTy lmSVUh\"><a class=\"sc-crrszt ceopXP atds-button atds-type-fiesta\" href=\"/redirect/advert/202105202850513/SC/279/\" rel=\"external noopener noreferrer nofollow\" target=\"_blank\">Get a check</a></div></li><li class=\"sc-ikPAEB fTupSE brand-link-pattern-ctt__preferred atc-type-mini\"><div class=\"sc-dkIXZx cdaaJG\"><span class=\"icon-svg\"><svg viewbox=\"0 0 100 32.324\" xmlns=\"http://www.w3.org/2000/svg\">\n<path d=\"M15.815 7.606h-3.663a1.971 1.971 0 01-1.972-1.97V1.97A1.971 1.971 0 0112.15 0h3.664a1.971 1.971 0 011.97 1.97v3.664a1.971 1.971 0 01-1.97 1.971\" fill=\"#0d6eb7\"></path>\n<path d=\"M6.338 15.817h-4.12A2.216 2.216 0 010 13.603V9.478A2.218 2.218 0 012.218 7.26h4.12a2.218 2.218 0 012.218 2.218V13.6a2.216 2.216 0 01-2.215 2.217h-.003\" fill=\"#72217b\"></path>\n<path d=\"M5.946 24.37H3.43a1.356 1.356 0 01-1.356-1.354V20.5a1.357 1.357 0 011.356-1.358h2.517a1.356 1.356 0 011.356 1.356v2.517a1.355 1.355 0 01-1.355 1.356\" fill=\"#b12384\"></path>\n<path d=\"M12.704 32.324H9.728a1.6 1.6 0 01-1.602-1.6v-2.978a1.6 1.6 0 011.6-1.601h2.978a1.6 1.6 0 011.602 1.599v2.979a1.6 1.6 0 01-1.6 1.601h-.002m10.907-23.22h-2.062a1.11 1.11 0 01-1.11-1.108v-2.06a1.11 1.11 0 011.11-1.11h2.062a1.11 1.11 0 011.107 1.11v2.06a1.108 1.108 0 01-1.107 1.108\" fill=\"#d92b80\"></path>\n<path d=\"M68.733 10.48a1.186 1.186 0 001.186-1.185v-.002a1.188 1.188 0 10-1.186 1.188M25.36 23.156a.941.941 0 01-.804.413 1.155 1.155 0 01-.552-.137 1.043 1.043 0 01-.436-.85.832.832 0 01.137-.46l2.757-4.34-2.757-4.342a.91.91 0 01-.137-.483.944.944 0 01.46-.827 1.021 1.021 0 011.332.276l2.25 3.56 2.274-3.56a1.02 1.02 0 011.333-.276.943.943 0 01.459.827.906.906 0 01-.138.483l-2.757 4.341 2.757 4.341a.83.83 0 01.138.46 1.042 1.042 0 01-.437.85 1.151 1.151 0 01-.55.137.942.942 0 01-.805-.413l-2.274-3.537-2.25 3.537zm13.778-9.348a3.962 3.962 0 103.973 3.973 3.926 3.926 0 00-3.973-3.973zm-3.951-.46a5.938 5.938 0 019.9 4.377v.056a5.938 5.938 0 01-9.9 4.387v5.077a.986.986 0 01-.987.941.998.998 0 01-.965-.941v-14.38a.998.998 0 01.965-.941.987.987 0 01.987.941zm26.717 3.354v5.948a.999.999 0 01-.965.942.987.987 0 01-.987-.942v-9.785a.987.987 0 01.987-.941 1.01 1.01 0 01.965.895 4.988 4.988 0 012.963-.987 1.045 1.045 0 011.08.965 1.066 1.066 0 01-1.08 1.01c-1.539.046-2.963.597-2.963 2.895m6.844-4.778a.986.986 0 00-.987.942v9.785a.987.987 0 00.987.941.998.998 0 00.965-.941v-9.786a.998.998 0 00-.965-.941m8.522 9.785a3.962 3.962 0 10-3.973-3.974 3.928 3.928 0 003.973 3.974zm3.952-8.844a.986.986 0 01.987-.941.998.998 0 01.965.941v9.786a.998.998 0 01-.965.941.986.986 0 01-.987-.941v-.483a5.938 5.938 0 01-9.901-4.377v-.056a5.938 5.938 0 019.9-4.387v-.483zm11.898 3.951a3.13 3.13 0 00-3.056-3.054c-1.585 0-3.055.643-3.055 2.94v5.948a.998.998 0 01-.965.942.986.986 0 01-.987-.942v-9.785a.986.986 0 01.987-.94 1.01 1.01 0 01.965.895 5.07 5.07 0 018.063 3.72v6.11a.998.998 0 01-.965.942.987.987 0 01-.987-.942zM17.12 13.785a3.925 3.925 0 013.766 2.736h-7.556a3.933 3.933 0 013.79-2.736m5.903 3.629a5.93 5.93 0 10-5.96 6.27h.057a5.802 5.802 0 004.111-1.676.978.978 0 00-.643-1.723 1.166 1.166 0 00-.78.391 3.619 3.619 0 01-2.688 1.033 3.935 3.935 0 01-3.928-3.236h8.866l.02-.002h.026c.017-.002.033-.007.05-.01a.634.634 0 00.1-.02 1.06 1.06 0 00.768-1.027m29.371-3.63a3.925 3.925 0 013.767 2.737h-7.557a3.933 3.933 0 013.79-2.736m5.904 3.629a5.932 5.932 0 10-5.904 6.27 5.802 5.802 0 004.112-1.676.978.978 0 00-.643-1.723 1.165 1.165 0 00-.782.39 3.619 3.619 0 01-2.687 1.034 3.935 3.935 0 01-3.928-3.237h8.852l.018-.002h.042a.697.697 0 00.079-.016c.013-.003.027-.003.04-.007a1.056 1.056 0 00.8-1.033m38.843 6.185a.16.16 0 01-.162-.157v-1.658h-.37a.16.16 0 01-.157-.163.156.156 0 01.156-.162h1.071a.156.156 0 01.157.162.16.16 0 01-.157.163h-.375v1.658a.156.156 0 01-.156.157h-.007m1.916.002a.17.17 0 01-.16-.126l-.462-1.355v1.322a.156.156 0 01-.155.157h-.007a.16.16 0 01-.162-.157v-1.75a.25.25 0 01.244-.244.253.253 0 01.234.18l.468 1.368.463-1.368a.256.256 0 01.237-.18.25.25 0 01.244.245v1.749a.156.156 0 01-.156.157h-.006a.16.16 0 01-.162-.157v-1.318l-.272.8c-.183.545-.184.547-.187.552a.175.175 0 01-.16.125\" fill=\"#004691\"></path>\n</svg>\n</span></div></li></ul></aside></div><div class=\"sc-bXDkGd iUkxPM\"><div class=\"sc-gsxoIA iYfbMn\"><nav class=\"sc-fvhFOF jtqxYq\"><a class=\"sc-fbNZge fGa-ddm atc-type-smart--medium\" data-gui=\"back-to-search-link\" href=\"/car-search?model=911&amp;onesearchad=New&amp;onesearchad=Nearly%20New&amp;onesearchad=Used&amp;make=Porsche&amp;radius=1500&amp;year-to=2021&amp;include-delivery-option=on&amp;postcode=bh205lg&amp;sort=price-desc&amp;advertising-location=at_cars&amp;page=1#202105202850513\"><span class=\"icon-svg\"><svg height=\"12\" viewbox=\"0 0 13 12\" width=\"13\" xmlns=\"http://www.w3.org/2000/svg\"><path d=\"M3.4 7H12a1 1 0 0 0 0-2H3.4l3.3-3.3a1 1 0 0 0 0-1.4 1 1 0 0 0-1.4 0l-5 5a1 1 0 0 0 0 1.4l5 5a1 1 0 0 0 1.4-1.4z\"></path></svg></span><span class=\"sc-GTVdH ieBKgT\">Back to results</span></a></nav></div></div><div id=\"advert-end\"></div><div></div><div></div><div class=\"sc-gsxoIA cEfDCu\"><div></div></div></div></main>"
     },
     "execution_count": 489,
     "metadata": {},
     "output_type": "execute_result"
    }
   ],
   "source": [
    "soup.find(id='content')"
   ],
   "metadata": {
    "collapsed": false,
    "pycharm": {
     "name": "#%%\n"
    }
   }
  },
  {
   "cell_type": "code",
   "execution_count": 490,
   "outputs": [],
   "source": [
    "car = {}"
   ],
   "metadata": {
    "collapsed": false,
    "pycharm": {
     "name": "#%%\n"
    }
   }
  },
  {
   "cell_type": "code",
   "execution_count": 491,
   "outputs": [
    {
     "data": {
      "text/plain": "6699"
     },
     "execution_count": 491,
     "metadata": {},
     "output_type": "execute_result"
    }
   ],
   "source": [
    "miles_string = soup.find(id='ks-mileage').parent.find_next_sibling('span').text\n",
    "amount_only = miles_string.split()[0]\n",
    "amount_no_comma = amount_only.replace(',', '')\n",
    "miles = int(amount_no_comma)\n",
    "miles"
   ],
   "metadata": {
    "collapsed": false,
    "pycharm": {
     "name": "#%%\n"
    }
   }
  },
  {
   "cell_type": "code",
   "execution_count": 492,
   "outputs": [],
   "source": [
    "car['mileage'] = miles"
   ],
   "metadata": {
    "collapsed": false,
    "pycharm": {
     "name": "#%%\n"
    }
   }
  },
  {
   "cell_type": "markdown",
   "source": [],
   "metadata": {
    "collapsed": false
   }
  },
  {
   "cell_type": "code",
   "execution_count": 493,
   "outputs": [
    {
     "data": {
      "text/plain": "459950"
     },
     "execution_count": 493,
     "metadata": {},
     "output_type": "execute_result"
    }
   ],
   "source": [
    "price_string = soup.find(attrs={\"data-testid\": \"advert-price\"}).text\n",
    "price_digits_only = price_string.replace(',', '').replace('£', '')\n",
    "price = int(price_digits_only)\n",
    "price"
   ],
   "metadata": {
    "collapsed": false,
    "pycharm": {
     "name": "#%%\n"
    }
   }
  },
  {
   "cell_type": "code",
   "execution_count": 494,
   "outputs": [],
   "source": [
    "car['price'] = price"
   ],
   "metadata": {
    "collapsed": false,
    "pycharm": {
     "name": "#%%\n"
    }
   }
  },
  {
   "cell_type": "code",
   "execution_count": 495,
   "outputs": [
    {
     "data": {
      "text/plain": "'Porsche 911'"
     },
     "execution_count": 495,
     "metadata": {},
     "output_type": "execute_result"
    }
   ],
   "source": [
    "advert_title = soup.find(attrs={\"data-testid\": \"advert-title\"})\n",
    "name = advert_title.text\n",
    "name"
   ],
   "metadata": {
    "collapsed": false,
    "pycharm": {
     "name": "#%%\n"
    }
   }
  },
  {
   "cell_type": "code",
   "execution_count": 496,
   "outputs": [],
   "source": [
    "car['name'] = name"
   ],
   "metadata": {
    "collapsed": false,
    "pycharm": {
     "name": "#%%\n"
    }
   }
  },
  {
   "cell_type": "code",
   "execution_count": null,
   "outputs": [],
   "source": [
    "advert_subtitle = soup.find(attrs={\"data-testid\": \"advert-subtitle\"}).text\n",
    "advert_subtitle"
   ],
   "metadata": {
    "collapsed": false,
    "pycharm": {
     "name": "#%%\n"
    }
   }
  },
  {
   "cell_type": "code",
   "execution_count": null,
   "outputs": [],
   "source": [
    "car['advert_subtitle'] = advert_subtitle"
   ],
   "metadata": {
    "collapsed": false,
    "pycharm": {
     "name": "#%%\n"
    }
   }
  },
  {
   "cell_type": "code",
   "execution_count": 497,
   "outputs": [
    {
     "data": {
      "text/plain": "'2011'"
     },
     "execution_count": 497,
     "metadata": {},
     "output_type": "execute_result"
    }
   ],
   "source": [
    "reg_age = advert_title.find_next_sibling('p').text\n",
    "year = reg_age.split()[0]\n",
    "year"
   ],
   "metadata": {
    "collapsed": false,
    "pycharm": {
     "name": "#%%\n"
    }
   }
  },
  {
   "cell_type": "code",
   "execution_count": 498,
   "outputs": [],
   "source": [
    "car['year'] = year"
   ],
   "metadata": {
    "collapsed": false,
    "pycharm": {
     "name": "#%%\n"
    }
   }
  },
  {
   "cell_type": "code",
   "execution_count": 499,
   "outputs": [],
   "source": [
    "key_specs = []\n",
    "children = soup.find(attrs={\"aria-label\": \"Key Specifications\"}).findChildren(\"li\")\n",
    "for child in children:\n",
    "   key_specs.append(child.text.strip())"
   ],
   "metadata": {
    "collapsed": false,
    "pycharm": {
     "name": "#%%\n"
    }
   }
  },
  {
   "cell_type": "code",
   "execution_count": 500,
   "outputs": [
    {
     "data": {
      "text/plain": "{'mileage': 6699,\n 'price': 459950,\n 'name': 'Porsche 911',\n 'year': '2011',\n 'body_type': 'Coupe',\n 'engine_size': 4.0,\n 'gearbox': 'Manual',\n 'fuel_type': 'Petrol',\n 'doors': 2}"
     },
     "execution_count": 500,
     "metadata": {},
     "output_type": "execute_result"
    }
   ],
   "source": [
    "car['body_type'] = key_specs[0]\n",
    "car['engine_size'] = float(key_specs[1].replace(\"L\", \"\"))\n",
    "car['gearbox'] = key_specs[2]\n",
    "car['fuel_type'] = key_specs[3]\n",
    "car['doors'] = int(key_specs[4].split()[0])\n",
    "car"
   ],
   "metadata": {
    "collapsed": false,
    "pycharm": {
     "name": "#%%\n"
    }
   }
  },
  {
   "cell_type": "code",
   "execution_count": 501,
   "outputs": [],
   "source": [
    "# driver.find_element_by_css_selector(\"*[title='Accept All']\").text"
   ],
   "metadata": {
    "collapsed": false,
    "pycharm": {
     "name": "#%%\n"
    }
   }
  },
  {
   "cell_type": "code",
   "execution_count": 502,
   "outputs": [],
   "source": [
    "# driver.find_element_by_xpath(\"//*[@id='notice']/div[3]/div[2]/button[2]\").text"
   ],
   "metadata": {
    "collapsed": false,
    "pycharm": {
     "name": "#%%\n"
    }
   }
  },
  {
   "cell_type": "code",
   "execution_count": 503,
   "outputs": [
    {
     "data": {
      "text/plain": "'<html lang=\"en\"><head>\\n  <title>Notice Message App</title>\\n  <meta charset=\"utf-8\">\\n  <meta name=\"viewport\" content=\"width=device-width,initial-scale=1.0,maximum-scale=5.0,user-scalable=yes,viewport-fit=cover\">\\n  <meta name=\"mobile-web-app-capable\" content=\"yes\">\\n  <meta name=\"apple-mobile-web-app-capable\" content=\"yes\">\\n  <link rel=\"manifest\" href=\"/manifest.json\">\\n  <style>body,html{font:14px/1.21 Helvetica Neue, arial, sans-serif;font-weight:400;margin:0;padding:0;min-height:100%;}</style>\\n<link href=\"/Notice.03819.css\" rel=\"preload\" as=\"style\"><style>body,html{font:14px/1.21 Helvetica Neue,arial,sans-serif;font-weight:400;margin:0;padding:0;height:100%;min-height:100%;text-size-adjust:none;-webkit-text-size-adjust:none;-moz-text-size-adjust:none;-ms-text-size-adjust:none;}body:not(.user-is-tabbing) :focus{outline:none;}</style><style>\\n    .text-link-0-0:hover { color:#0000ff !important; text-decoration:underline !important; font-weight: 400 !important;  }\\n  </style><style>\\n    .text-link-0-1:hover { color:#00d7d2 !important; text-decoration:underline !important; font-weight: 400 !important;  }\\n  </style><style>\\n    .text-link-0-3-0-0:hover { color:#00d7d2 !important; text-decoration:underline !important; font-weight: 400 !important;  }\\n  </style></head>\\n\\n<body>\\n  <div class=\"message-container\"><div class=\"message-overlay\" style=\"display: flex; background: rgb(0, 0, 0); opacity: 0.65;\"></div><div id=\"notice\" class=\"message type-modal\" style=\"padding: 10px; border-width: 0px; border-color: rgb(0, 0, 0); border-radius: 0px; border-style: solid; background: rgb(49, 60, 83); width: 600px; height: auto;\"><div style=\"font-size: 16px; font-weight: 500; color: rgb(153, 153, 153); font-family: arial, helvetica, sans-serif; display: none;\"><span tabindex=\"0\" class=\"message-stacksclose\">X</span></div><p class=\"message-component text no-children\" style=\"padding: 10px 0px 7px; margin: 0px 6px; font-size: 19px; font-weight: 800; color: rgb(255, 255, 255); font-family: arial, helvetica, sans-serif; text-align: left; width: auto;\">We use cookies on our site</p><p class=\"message-component text no-children\" style=\"padding: 0px; margin: 0px 6px 10px; font-size: 14px; font-weight: 400; color: rgb(255, 255, 255); font-family: arial, helvetica, sans-serif; text-align: left; width: auto;\">Like most websites you visit we use cookies on your device to improve your experience and understand how we can make our website better. This includes personalising the ads you see, seeing where you are to bring you localised content and using data on the pages you visit to make the website better.<p></p><p><br></p><p>We work with <a aria-label=\"partners\" target=\"_blank\" href=\"$$$$:1614178064711\" style=\"color:#00d7d2;text-decoration:underline;font-weight: 400;\" class=\"text-link-0-1 sp_choice_type_12 focusable first-focusable-el\" tabindex=\"0\">partners</a> to help us process this data, and some process this data on the basis of legitimate interest. If you don’t want us sharing your data with them you can decline by changing your settings below.</p><p><br></p><p>We’d love you to accept our cookies. If you don’t you won’t see some personalised content or adverts for cars. We also won’t have the data to make the website better. Your choices are only applied to Auto Trader and can change them at any time by clicking Manage Cookies in the footer.</p></p><div class=\"message-component message-stacks no-children\"><div class=\"stack-container\" style=\"min-height: auto; max-height: 400px;\"><div tabindex=\"0\" class=\"stack\"><button tabindex=\"-1\" class=\"accordion\" style=\"padding: 5px 42px 5px 5px; font-size: 14px; font-weight: 600; color: rgb(255, 255, 255); font-family: arial, helvetica, sans-serif;\">Store and/or access information on a device<span class=\"chevron down\"></span></button><div class=\"panel\"><p style=\"padding: 5px 27px 5px 6px; font-size: 13px; font-weight: 400; color: rgb(255, 255, 255); font-family: arial, helvetica, sans-serif;\"><div><div>Cookies, device identifiers, or other information can be stored or accessed on your device for the purposes presented to you.</div></div></p></div></div><div tabindex=\"0\" class=\"stack\"><button tabindex=\"-1\" class=\"accordion\" style=\"padding: 5px 42px 5px 5px; font-size: 14px; font-weight: 600; color: rgb(255, 255, 255); font-family: arial, helvetica, sans-serif;\">Personalised ads and content, ad and content measurement, audience insights and product development<span class=\"chevron down\"></span></button><div class=\"panel\"><p style=\"padding: 5px 27px 5px 6px; font-size: 13px; font-weight: 400; color: rgb(255, 255, 255); font-family: arial, helvetica, sans-serif;\"><div><div>Ads and content can be personalised based on a profile. More data can be added to better personalise ads and content. Ad and content performance can be measured. Insights about audiences who saw the ads and content can be derived. Data can be used to build or improve user experience, systems and software.</div></div></p></div></div><div tabindex=\"0\" class=\"stack\"><button tabindex=\"-1\" class=\"accordion\" style=\"padding: 5px 42px 5px 5px; font-size: 14px; font-weight: 600; color: rgb(255, 255, 255); font-family: arial, helvetica, sans-serif;\">Precise geolocation data, and identification through device scanning<span class=\"chevron down\"></span></button><div class=\"panel\"><p style=\"padding: 5px 27px 5px 6px; font-size: 13px; font-weight: 400; color: rgb(255, 255, 255); font-family: arial, helvetica, sans-serif;\"><div><div>Precise geolocation and information about device characteristics can be used.</div></div></p></div></div></div></div><div class=\"message-component message-row\" style=\"padding: 0px; margin: 10px 10px 10px 2px; border-width: 0px; border-color: rgb(0, 0, 0); border-radius: 0px; border-style: solid; width: auto; height: auto; justify-content: flex-start; align-items: flex-start;\"><div class=\"message-component message-column\" style=\"padding: 0px; margin: 0px; border-width: 0px; border-color: rgb(0, 0, 0); border-radius: 0px; border-style: solid; width: 100%; height: auto; background: none; align-items: flex-start; justify-content: flex-start;\"><p class=\"message-component text no-children\" style=\"padding: 2px 11px; margin: 0px; font-size: 14px; font-weight: 400; color: rgb(255, 255, 255); font-family: arial, helvetica, sans-serif; text-align: left; width: auto;\">View our&nbsp;<a target=\"_blank\" href=\"https://www.autotrader.co.uk/privacy-policy\" style=\"color:#00d7d2;text-decoration:underline;font-weight: 400;\" class=\"text-link-0-3-0-0  focusable\" tabindex=\"0\">Privacy policy</a>&nbsp;for more details. You can manage your cookie choices at any time by visiting the cookie setting area.</p></div><div class=\"message-component message-column unstack\" style=\"padding: 0px; margin: 0px; border-width: 0px; border-color: rgb(0, 0, 0); border-radius: 0px; border-style: solid; width: 100%; height: auto; background: none; align-items: flex-end; justify-content: flex-end;\"><button title=\"Settings\" class=\"message-component message-button no-children focusable sp_choice_type_12\" style=\"padding: 14px 29px 14px 30px; margin: 0px 10px; border-width: 2px; border-color: rgb(255, 255, 255); border-radius: 0px; border-style: solid; font-size: 16px; font-weight: 700; color: rgb(255, 255, 255); font-family: arial, helvetica, sans-serif; width: auto; background: rgb(49, 60, 83);\">Settings</button><button title=\"Accept All\" class=\"message-component message-button no-children focusable sp_choice_type_11 last-focusable-el\" style=\"padding: 14px 30px; margin: 0px 5px; border-width: 2px; border-color: rgb(5, 52, 255); border-radius: 0px; border-style: solid; font-size: 16px; font-weight: 700; color: rgb(255, 255, 255); font-family: arial, helvetica, sans-serif; width: auto; background: rgb(5, 52, 255);\">Accept All</button></div></div></div></div><script type=\"__PREACT_CLI_DATA__\">{\"preRenderData\":{\"url\":\"/\"}}</script>\\n  <script>\\n    if (!String.prototype.includes) {\\n      String.prototype.includes = function (search, start) {\\n        \\'use strict\\';\\n        if (search instanceof RegExp) {\\n          throw TypeError(\\'first argument must not be a RegExp\\');\\n        }\\n        if (start === undefined) { start = 0; }\\n        return this.indexOf(search, start) !== -1;\\n      };\\n    }\\n    if (!Array.prototype.find) {\\n      Object.defineProperty(Array.prototype, \\'find\\', {\\n        value: function (predicate) {\\n          // 1. Let O be ? ToObject(this value).\\n          if (this == null) {\\n            throw TypeError(\\'\"this\" is null or not defined\\');\\n          }\\n\\n          var o = Object(this);\\n\\n          // 2. Let len be ? ToLength(? Get(O, \"length\")).\\n          var len = o.length >>> 0;\\n\\n          // 3. If IsCallable(predicate) is false, throw a TypeError exception.\\n          if (typeof predicate !== \\'function\\') {\\n            throw TypeError(\\'predicate must be a function\\');\\n          }\\n\\n          // 4. If thisArg was supplied, let T be thisArg; else let T be undefined.\\n          var thisArg = arguments[1];\\n\\n          // 5. Let k be 0.\\n          var k = 0;\\n\\n          // 6. Repeat, while k < len\\n          while (k < len) {\\n            // a. Let Pk be ! ToString(k).\\n            // b. Let kValue be ? Get(O, Pk).\\n            // c. Let testResult be ToBoolean(? Call(predicate, T, « kValue, k, O »)).\\n            // d. If testResult is true, return kValue.\\n            var kValue = o[k];\\n            if (predicate.call(thisArg, kValue, k, o)) {\\n              return kValue;\\n            }\\n            // e. Increase k by 1.\\n            k++;\\n          }\\n\\n          // 7. Return undefined.\\n          return undefined;\\n        },\\n        configurable: true,\\n        writable: true\\n      });\\n    }\\n    if (!Array.prototype.includes) {\\n      Object.defineProperty(Array.prototype, \\'includes\\', {\\n        value: function (searchElement, fromIndex) {\\n\\n          if (this == null) {\\n            throw new TypeError(\\'\"this\" is null or not defined\\');\\n          }\\n\\n          var o = Object(this);\\n\\n          var len = o.'"
     },
     "execution_count": 503,
     "metadata": {},
     "output_type": "execute_result"
    }
   ],
   "source": [
    "iframe = driver.find_element_by_xpath(\"//iframe[@title='SP Consent Message']\")\n",
    "driver.switch_to.frame(iframe)\n",
    "driver.page_source[:10000]"
   ],
   "metadata": {
    "collapsed": false,
    "pycharm": {
     "name": "#%%\n"
    }
   }
  },
  {
   "cell_type": "code",
   "execution_count": 504,
   "outputs": [
    {
     "data": {
      "text/plain": "'Accept All'"
     },
     "execution_count": 504,
     "metadata": {},
     "output_type": "execute_result"
    }
   ],
   "source": [
    "driver.find_element_by_css_selector(\"*[title='Accept All']\").text"
   ],
   "metadata": {
    "collapsed": false,
    "pycharm": {
     "name": "#%%\n"
    }
   }
  },
  {
   "cell_type": "code",
   "execution_count": 505,
   "outputs": [],
   "source": [
    "driver.find_element_by_css_selector(\"*[title='Accept All']\").click()"
   ],
   "metadata": {
    "collapsed": false,
    "pycharm": {
     "name": "#%%\n"
    }
   }
  },
  {
   "cell_type": "code",
   "execution_count": 506,
   "outputs": [
    {
     "data": {
      "text/plain": "'Specification'"
     },
     "execution_count": 506,
     "metadata": {},
     "output_type": "execute_result"
    }
   ],
   "source": [
    "driver.switch_to.default_content()\n",
    "driver.execute_script(\"window.scrollTo(0, 1080)\")\n",
    "driver.find_element_by_css_selector(\"*[data-testid='tech-spec-link']\").text"
   ],
   "metadata": {
    "collapsed": false,
    "pycharm": {
     "name": "#%%\n"
    }
   }
  },
  {
   "cell_type": "code",
   "execution_count": 507,
   "outputs": [],
   "source": [
    "driver.find_element_by_css_selector(\"*[data-testid='tech-spec-link']\").click()"
   ],
   "metadata": {
    "collapsed": false,
    "pycharm": {
     "name": "#%%\n"
    }
   }
  },
  {
   "cell_type": "code",
   "execution_count": 508,
   "outputs": [
    {
     "data": {
      "text/plain": "'<html lang=\"en\" class=\"\" tabindex=\"0\"><head><meta charset=\"utf-8\">\\n<meta name=\"viewport\" content=\"width=device-width, initial-scale=1, shrink-to-fit=no\">\\n<meta name=\"theme-color\" content=\"#313c53\">\\n\\n<link rel=\"preconnect\" href=\"https://ec.atcdn.co.uk\" crossorigin=\"\">\\n<link rel=\"dns-prefetch\" href=\"https://ec.atcdn.co.uk\" crossorigin=\"\" as=\"image\">\\n<link rel=\"preconnect\" href=\"https://m.atcdn.co.uk\" crossorigin=\"\">\\n<link rel=\"dns-prefetch\" href=\"https://m.atcdn.co.uk\" crossorigin=\"\" as=\"image\">\\n\\n<link rel=\"icon\" href=\"https://www.autotrader.co.uk/images/favicons/favicon.png\">\\n<link rel=\"apple-touch-icon\" href=\"https://www.autotrader.co.uk/images/favicons/touch-icon-iphone.png\">\\n<link rel=\"apple-touch-icon\" sizes=\"76x76\" href=\"https://www.autotrader.co.uk/images/favicons/touch-icon-ipad.png\">\\n<link rel=\"apple-touch-icon\" sizes=\"120x120\" href=\"https://www.autotrader.co.uk/images/favicons/touch-icon-iphone-retina.png\">\\n<link rel=\"apple-touch-icon\" sizes=\"152x152\" href=\"https://www.autotrad'"
     },
     "execution_count": 508,
     "metadata": {},
     "output_type": "execute_result"
    }
   ],
   "source": [
    "driver.page_source[:1000]"
   ],
   "metadata": {
    "collapsed": false,
    "pycharm": {
     "name": "#%%\n"
    }
   }
  },
  {
   "cell_type": "code",
   "execution_count": 509,
   "outputs": [],
   "source": [
    "import time\n",
    "time.sleep(3)"
   ],
   "metadata": {
    "collapsed": false,
    "pycharm": {
     "name": "#%%\n"
    }
   }
  },
  {
   "cell_type": "code",
   "execution_count": 510,
   "outputs": [
    {
     "data": {
      "text/plain": "'<html lang=\"en\" class=\"\"><head><meta charset=\"utf-8\">\\n<meta name=\"viewport\" content=\"width=device-width, initial-scale=1, shrink-to-fit=no\">\\n<meta name=\"theme-color\" content=\"#313c53\">\\n\\n<link rel=\"preconnect\" href=\"https://ec.atcdn.co.uk\" crossorigin=\"\">\\n<link rel=\"dns-prefetch\" href=\"https://ec.atcdn.co.uk\" crossorigin=\"\" as=\"image\">\\n<link rel=\"preconnect\" href=\"https://m.atcdn.co.uk\" crossorigin=\"\">\\n<link rel=\"dns-prefetch\" href=\"https://m.atcdn.co.uk\" crossorigin=\"\" as=\"image\">\\n\\n<link rel=\"icon\" href=\"https://www.autotrader.co.uk/images/favicons/favicon.png\">\\n<link rel=\"apple-touch-icon\" href=\"https://www.autotrader.co.uk/images/favicons/touch-icon-iphone.png\">\\n<link rel=\"apple-touch-icon\" sizes=\"76x76\" href=\"https://www.autotrader.co.uk/images/favicons/touch-icon-ipad.png\">\\n<link rel=\"apple-touch-icon\" sizes=\"120x120\" href=\"https://www.autotrader.co.uk/images/favicons/touch-icon-iphone-retina.png\">\\n<link rel=\"apple-touch-icon\" sizes=\"152x152\" href=\"https://www.autotrader.co.uk/imag'"
     },
     "execution_count": 510,
     "metadata": {},
     "output_type": "execute_result"
    }
   ],
   "source": [
    "driver.page_source[:1000]"
   ],
   "metadata": {
    "collapsed": false,
    "pycharm": {
     "name": "#%%\n"
    }
   }
  },
  {
   "cell_type": "code",
   "execution_count": 511,
   "outputs": [],
   "source": [
    "soup_spec_modal = bs(driver.page_source)"
   ],
   "metadata": {
    "collapsed": false,
    "pycharm": {
     "name": "#%%\n"
    }
   }
  },
  {
   "cell_type": "code",
   "execution_count": 512,
   "outputs": [],
   "source": [
    "performance_expander = soup_spec_modal.find(attrs={\"data-gui\": \"performance-expander\"})\n",
    "lines = performance_expander.findChildren()[2].find_all('li')"
   ],
   "metadata": {
    "collapsed": false,
    "pycharm": {
     "name": "#%%\n"
    }
   }
  },
  {
   "cell_type": "code",
   "execution_count": 513,
   "outputs": [
    {
     "data": {
      "text/plain": "{'mileage': 6699,\n 'price': 459950,\n 'name': 'Porsche 911',\n 'year': '2011',\n 'body_type': 'Coupe',\n 'engine_size': 4.0,\n 'gearbox': 'Manual',\n 'fuel_type': 'Petrol',\n 'doors': 2,\n '0-6Xmph': 3.9,\n 'top_speed': 193,\n 'cylinders': 6,\n 'power': 500}"
     },
     "execution_count": 513,
     "metadata": {},
     "output_type": "execute_result"
    }
   ],
   "source": [
    "for line in lines:\n",
    "   key = line.contents[0].text\n",
    "   value = line.contents[1].text\n",
    "   if \"0-6\" in key:\n",
    "      car[\"0-6Xmph\"] = float(value.split()[0])\n",
    "   elif key == \"Top Speed\":\n",
    "      car[\"top_speed\"] = int(value.split()[0])\n",
    "   elif key == \"Cylinders\":\n",
    "      car[\"cylinders\"] = int(value)\n",
    "   elif key == \"Engine power\":\n",
    "      car[\"power\"] = int(value.split()[0])\n",
    "\n",
    "\n",
    "car"
   ],
   "metadata": {
    "collapsed": false,
    "pycharm": {
     "name": "#%%\n"
    }
   }
  },
  {
   "cell_type": "code",
   "execution_count": 514,
   "outputs": [],
   "source": [
    "# record advert id\n",
    "# subtitle?\n",
    "# error messages etc\n",
    "\n",
    "\n",
    "\n",
    "# 0-62mph\n",
    "# 4.4 seconds\n",
    "# Top Speed\n",
    "# 181 mph\n",
    "# Cylinders\n",
    "# 6\n",
    "# Valves\n",
    "# 24\n",
    "# Engine power\n",
    "# 380 bhp\n",
    "# Engine torque\n",
    "# 332 lbs/ft\n",
    "# driver.find_element_by_css_selector(\"*[title='Accept All']\").text"
   ],
   "metadata": {
    "collapsed": false,
    "pycharm": {
     "name": "#%%\n"
    }
   }
  },
  {
   "cell_type": "code",
   "execution_count": 515,
   "outputs": [],
   "source": [
    "# //*[@id=\"notice\"]/div[3]/div[2]/button[2]"
   ],
   "metadata": {
    "collapsed": false,
    "pycharm": {
     "name": "#%%\n"
    }
   }
  },
  {
   "cell_type": "code",
   "execution_count": 516,
   "outputs": [],
   "source": [
    "# title=\"SP Consent Message\""
   ],
   "metadata": {
    "collapsed": false,
    "pycharm": {
     "name": "#%%\n"
    }
   }
  },
  {
   "cell_type": "code",
   "execution_count": 517,
   "outputs": [],
   "source": [
    "# driver.find_elements_by_name(\"iframe\")"
   ],
   "metadata": {
    "collapsed": false,
    "pycharm": {
     "name": "#%%\n"
    }
   }
  },
  {
   "cell_type": "code",
   "execution_count": 518,
   "outputs": [],
   "source": [
    "# driver.find_element_by_xpath(\"//iframe[@title='SP Consent Message']\")"
   ],
   "metadata": {
    "collapsed": false,
    "pycharm": {
     "name": "#%%\n"
    }
   }
  },
  {
   "cell_type": "code",
   "execution_count": 518,
   "outputs": [],
   "source": [],
   "metadata": {
    "collapsed": false,
    "pycharm": {
     "name": "#%%\n"
    }
   }
  },
  {
   "cell_type": "code",
   "execution_count": 518,
   "outputs": [],
   "source": [],
   "metadata": {
    "collapsed": false,
    "pycharm": {
     "name": "#%%\n"
    }
   }
  },
  {
   "cell_type": "code",
   "execution_count": 518,
   "outputs": [],
   "source": [],
   "metadata": {
    "collapsed": false,
    "pycharm": {
     "name": "#%%\n"
    }
   }
  },
  {
   "cell_type": "code",
   "execution_count": 518,
   "outputs": [],
   "source": [],
   "metadata": {
    "collapsed": false,
    "pycharm": {
     "name": "#%%\n"
    }
   }
  },
  {
   "cell_type": "code",
   "execution_count": 518,
   "outputs": [],
   "source": [],
   "metadata": {
    "collapsed": false,
    "pycharm": {
     "name": "#%%\n"
    }
   }
  }
 ],
 "metadata": {
  "kernelspec": {
   "display_name": "Python 3",
   "language": "python",
   "name": "python3"
  },
  "language_info": {
   "codemirror_mode": {
    "name": "ipython",
    "version": 2
   },
   "file_extension": ".py",
   "mimetype": "text/x-python",
   "name": "python",
   "nbconvert_exporter": "python",
   "pygments_lexer": "ipython2",
   "version": "2.7.6"
  }
 },
 "nbformat": 4,
 "nbformat_minor": 0
}