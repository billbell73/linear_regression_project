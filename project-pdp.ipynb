{
 "cells": [
  {
   "cell_type": "code",
   "execution_count": 21,
   "outputs": [],
   "source": [
    "import re\n",
    "from bs4 import BeautifulSoup as bs\n",
    "from selenium import webdriver\n",
    "import time, os"
   ],
   "metadata": {
    "collapsed": false,
    "pycharm": {
     "name": "#%%\n"
    }
   }
  },
  {
   "cell_type": "code",
   "execution_count": 22,
   "outputs": [],
   "source": [
    "def scrape_initial_details(soup, car):\n",
    "   advert_title = soup.find(attrs={\"data-testid\": \"advert-title\"})\n",
    "   car['name'] = advert_title.text\n",
    "\n",
    "   reg_age = advert_title.find_next_sibling('p').text\n",
    "   car['year'] = reg_age.split()[0]\n",
    "\n",
    "   miles_string = soup.find(id='ks-mileage').parent.find_next_sibling('span').text\n",
    "   amount_only = miles_string.split()[0]\n",
    "   amount_no_comma = amount_only.replace(',', '')\n",
    "   car['mileage'] = int(amount_no_comma)\n",
    "\n",
    "   price_string = soup.find(attrs={\"data-testid\": \"advert-price\"}).text\n",
    "   price_digits_only = price_string.replace(',', '').replace('£', '')\n",
    "   car['price'] = int(price_digits_only)\n",
    "\n",
    "   car['advert_subtitle'] = soup.find(attrs={\"data-testid\": \"advert-subtitle\"}).text\n",
    "\n",
    "   key_specs = []\n",
    "   children = soup.find(attrs={\"aria-label\": \"Key Specifications\"}).findChildren(\"li\")\n",
    "   for child in children:\n",
    "      key_specs.append(child.text.strip())\n",
    "\n",
    "   car['body_type'] = key_specs[0]\n",
    "   car['engine_size'] = float(key_specs[1].replace(\"L\", \"\"))\n",
    "   car['gearbox'] = key_specs[2]\n",
    "   car['fuel_type'] = key_specs[3]\n",
    "   car['doors'] = int(key_specs[4].split()[0])\n",
    "\n",
    "   return car"
   ],
   "metadata": {
    "collapsed": false,
    "pycharm": {
     "name": "#%%\n"
    }
   }
  },
  {
   "cell_type": "code",
   "execution_count": 23,
   "outputs": [],
   "source": [
    "def scrape_performance(soup, car):\n",
    "   performance_expander = soup.find(attrs={\"data-gui\": \"performance-expander\"})\n",
    "   lines = performance_expander.findChildren()[2].find_all('li')\n",
    "\n",
    "   for line in lines:\n",
    "      key = line.contents[0].text\n",
    "      value = line.contents[1].text\n",
    "      if \"0-6\" in key:\n",
    "         car[\"0-6Xmph\"] = float(value.split()[0])\n",
    "      elif key == \"Top Speed\":\n",
    "         car[\"top_speed\"] = int(value.split()[0])\n",
    "      elif key == \"Cylinders\":\n",
    "         car[\"cylinders\"] = int(value)\n",
    "      elif key == \"Engine power\":\n",
    "         car[\"power\"] = int(value.split()[0])\n",
    "\n",
    "   return car"
   ],
   "metadata": {
    "collapsed": false,
    "pycharm": {
     "name": "#%%\n"
    }
   }
  },
  {
   "cell_type": "code",
   "execution_count": 54,
   "outputs": [],
   "source": [
    "def scrape_pdp(chromedriver, url, car, car_id):\n",
    "   driver = webdriver.Chrome(chromedriver)\n",
    "   driver.implicitly_wait(10)\n",
    "\n",
    "   driver.get(url)\n",
    "   driver.maximize_window()\n",
    "   soup = bs(driver.page_source)\n",
    "\n",
    "   try:\n",
    "      car = scrape_initial_details(soup, car)\n",
    "   except:\n",
    "      print(f\"Error scraping initial details. Car id: {car_id}\")\n",
    "      driver.quit()\n",
    "      return car, (car_id, \"intial_details\")\n",
    "\n",
    "   iframe = driver.find_element_by_xpath(\"//iframe[@title='SP Consent Message']\")\n",
    "   driver.switch_to.frame(iframe)\n",
    "   driver.find_element_by_css_selector(\"*[title='Accept All']\").click()\n",
    "\n",
    "   driver.switch_to.default_content()\n",
    "   driver.execute_script(\"window.scrollTo(0, 1080)\")\n",
    "   driver.find_element_by_css_selector(\"*[data-testid='tech-spec-link']\").click()\n",
    "\n",
    "   time.sleep(1)\n",
    "   soup_spec_modal = bs(driver.page_source)\n",
    "   try:\n",
    "      car = scrape_performance(soup_spec_modal, car)\n",
    "   except:\n",
    "      print(f\"Error scraping performance. Car id: {car_id}\")\n",
    "      driver.quit()\n",
    "      return car, (car_id, \"performance spec\")\n",
    "\n",
    "   driver.quit()\n",
    "   return car, None"
   ],
   "metadata": {
    "collapsed": false,
    "pycharm": {
     "name": "#%%\n"
    }
   }
  },
  {
   "cell_type": "code",
   "execution_count": 60,
   "outputs": [],
   "source": [
    "def scrape_paths(chromedriver, pdp_paths, cars):\n",
    "   incomplete_scrapes = []\n",
    "   already_scraped = []\n",
    "\n",
    "   pattern = r'(\\d+)\\?'\n",
    "\n",
    "   for path in pdp_paths:\n",
    "      match = re.search(pattern, path)\n",
    "      car_id = match.group(1)\n",
    "\n",
    "      if car_id not in cars:\n",
    "         car = {}\n",
    "         car['id'] = car_id\n",
    "\n",
    "         url = \"https://www.autotrader.co.uk\" + path\n",
    "         try:\n",
    "            car, incomplete_scrape = scrape_pdp(chromedriver, url, car, car_id)\n",
    "            if incomplete_scrape:\n",
    "               incomplete_scrapes.append(incomplete_scrape)\n",
    "            else:\n",
    "               cars[car_id] = car\n",
    "         except:\n",
    "            incomplete_scrapes.append((car_id, \"navigating\"))\n",
    "      else:\n",
    "         already_scraped.append(car_id)\n",
    "\n",
    "   return cars, incomplete_scrapes, already_scraped"
   ],
   "metadata": {
    "collapsed": false,
    "pycharm": {
     "name": "#%%\n"
    }
   }
  },
  {
   "cell_type": "code",
   "execution_count": 64,
   "outputs": [
    {
     "data": {
      "text/plain": "['/car-details/202110218731995?include-delivery-option=on&model=911&postcode=bh205lg&sort=relevance&radius=1501&advertising-location=at_cars&onesearchad=New&onesearchad=Nearly%20New&onesearchad=Used&make=Porsche&page=1',\n '/car-details/202108276699111?include-delivery-option=on&model=911&postcode=bh205lg&sort=relevance&radius=1501&advertising-location=at_cars&onesearchad=New&onesearchad=Nearly%20New&onesearchad=Used&make=Porsche&page=1',\n '/car-details/202109187510335?include-delivery-option=on&model=911&postcode=bh205lg&sort=relevance&radius=1501&advertising-location=at_cars&onesearchad=New&onesearchad=Nearly%20New&onesearchad=Used&make=Porsche&page=1',\n '/car-details/202109026919221?include-delivery-option=on&model=911&postcode=bh205lg&sort=relevance&radius=1501&advertising-location=at_cars&onesearchad=New&onesearchad=Nearly%20New&onesearchad=Used&make=Porsche&page=1',\n '/car-details/202109227667959?include-delivery-option=on&model=911&postcode=bh205lg&sort=relevance&radius=1501&advertising-location=at_cars&onesearchad=New&onesearchad=Nearly%20New&onesearchad=Used&make=Porsche&page=1',\n '/car-details/202110128409013?include-delivery-option=on&model=911&postcode=bh205lg&sort=relevance&radius=1501&advertising-location=at_cars&onesearchad=New&onesearchad=Nearly%20New&onesearchad=Used&make=Porsche&page=1',\n '/car-details/202110208694193?include-delivery-option=on&model=911&postcode=bh205lg&sort=relevance&radius=1501&advertising-location=at_cars&onesearchad=New&onesearchad=Nearly%20New&onesearchad=Used&make=Porsche&page=1',\n '/car-details/202108065928317?include-delivery-option=on&model=911&postcode=bh205lg&sort=relevance&radius=1501&advertising-location=at_cars&onesearchad=New&onesearchad=Nearly%20New&onesearchad=Used&make=Porsche&page=1',\n '/car-details/202106304439092?include-delivery-option=on&model=911&postcode=bh205lg&sort=relevance&radius=1501&advertising-location=at_cars&onesearchad=New&onesearchad=Nearly%20New&onesearchad=Used&make=Porsche&page=1',\n '/car-details/202106234153685?include-delivery-option=on&model=911&postcode=bh205lg&sort=relevance&radius=1501&advertising-location=at_cars&onesearchad=New&onesearchad=Nearly%20New&onesearchad=Used&make=Porsche&page=1',\n '/car-details/202107235359966?include-delivery-option=on&model=911&postcode=bh205lg&sort=relevance&radius=1501&advertising-location=at_cars&onesearchad=New&onesearchad=Nearly%20New&onesearchad=Used&make=Porsche&page=1']"
     },
     "execution_count": 64,
     "metadata": {},
     "output_type": "execute_result"
    }
   ],
   "source": [
    "chromedriver = \"/Users/william.bell/opt/anaconda3/envs/metis/lib/python3.8/site-packages/chromedriver_binary/chromedriver\" # path to the chromedriver executable\n",
    "os.environ[\"webdriver.chrome.driver\"] = chromedriver\n",
    "\n",
    "path1 = '/car-details/202105202850513?model=911&onesearchad=New&onesearchad=Nearly%20New&onesearchad=Used&make=Porsche&radius=1500&year-to=2021&include-delivery-option=on&postcode=bh205lg&sort=price-desc&advertising-location=at_cars&page=1'\n",
    "path2 = '/car-details/202110048110259?year-to=2021&advertising-location=at_cars&model=911&make=Porsche&include-delivery-option=on&postcode=bh205lg&onesearchad=New&onesearchad=Nearly%20New&onesearchad=Used&radius=1501&sort=relevance&page=1'\n",
    "pdp_paths = [path1, path2]\n",
    "\n",
    "cars = {}\n",
    "\n",
    "%store -r pdp_urls\n",
    "pdp_urls"
   ],
   "metadata": {
    "collapsed": false,
    "pycharm": {
     "name": "#%%\n"
    }
   }
  },
  {
   "cell_type": "code",
   "execution_count": 76,
   "outputs": [
    {
     "name": "stdout",
     "output_type": "stream",
     "text": [
      "user agent: Mozilla/5.0 (Macintosh; Intel Mac OS X 10_15_7) AppleWebKit/537.36 (KHTML, like Gecko) Chrome/95.0.4638.54 Safari/537.36\n",
      "Error scraping initial details. Car id: 202109026919221\n",
      "user agent: Mozilla/5.0 (Macintosh; Intel Mac OS X 10_15_7) AppleWebKit/537.36 (KHTML, like Gecko) Chrome/95.0.4638.54 Safari/537.36\n",
      "Error scraping initial details. Car id: 202108065928317\n",
      "Time taken: 43.530699014663696\n"
     ]
    }
   ],
   "source": [
    "\n",
    "\n",
    "start = time.time()\n",
    "cars, incomplete_scrapes, already_scraped = scrape_paths(chromedriver, pdp_urls, cars)\n",
    "end = time.time()\n",
    "print(f\"Time taken: {end - start}\" )"
   ],
   "metadata": {
    "collapsed": false,
    "pycharm": {
     "name": "#%%\n"
    }
   }
  },
  {
   "cell_type": "code",
   "execution_count": 73,
   "outputs": [
    {
     "data": {
      "text/plain": "[('202109026919221', 'intial_details'), ('202108065928317', 'intial_details')]"
     },
     "execution_count": 73,
     "metadata": {},
     "output_type": "execute_result"
    }
   ],
   "source": [
    "incomplete_scrapes"
   ],
   "metadata": {
    "collapsed": false,
    "pycharm": {
     "name": "#%%\n"
    }
   }
  },
  {
   "cell_type": "code",
   "execution_count": 74,
   "outputs": [
    {
     "data": {
      "text/plain": "9"
     },
     "execution_count": 74,
     "metadata": {},
     "output_type": "execute_result"
    }
   ],
   "source": [
    "len(already_scraped)"
   ],
   "metadata": {
    "collapsed": false,
    "pycharm": {
     "name": "#%%\n"
    }
   }
  },
  {
   "cell_type": "code",
   "execution_count": 75,
   "outputs": [
    {
     "data": {
      "text/plain": "{'202110218731995': {'id': '202110218731995',\n  'name': 'Porsche 911',\n  'year': '1998',\n  'mileage': 104000,\n  'price': 12995,\n  'advert_subtitle': '3.4 996 Carrera 2 Tiptronic S 2dr',\n  'body_type': 'Coupe',\n  'engine_size': 3.4,\n  'gearbox': 'Automatic',\n  'fuel_type': 'Petrol',\n  'doors': 2,\n  '0-6Xmph': 5.2,\n  'top_speed': 175,\n  'cylinders': 6,\n  'power': 300},\n '202108276699111': {'id': '202108276699111',\n  'name': 'Porsche 911',\n  'year': '2001',\n  'mileage': 96000,\n  'price': 16995,\n  'advert_subtitle': '3.6 CARRERA 2 TIPTRONIC S 2d 316 BHP',\n  'body_type': 'Convertible',\n  'engine_size': 3.6,\n  'gearbox': 'Automatic',\n  'fuel_type': 'Petrol',\n  'doors': 2,\n  '0-6Xmph': 5.7,\n  'top_speed': 174,\n  'cylinders': 6,\n  'power': 315},\n '202109187510335': {'id': '202109187510335',\n  'name': 'Porsche 911',\n  'year': '2003',\n  'mileage': 83000,\n  'price': 18750,\n  'advert_subtitle': '3.6 996 Carrera 4 Tiptronic S AWD 2dr',\n  'body_type': 'Coupe',\n  'engine_size': 3.6,\n  'gearbox': 'Automatic',\n  'fuel_type': 'Petrol',\n  'doors': 2,\n  '0-6Xmph': 5.5,\n  'top_speed': 174,\n  'cylinders': 6,\n  'power': 315},\n '202109227667959': {'id': '202109227667959',\n  'name': 'Porsche 911',\n  'year': '2000',\n  'mileage': 211570,\n  'price': 8950,\n  'advert_subtitle': '3.4 996 Carrera 4 AWD 2dr',\n  'body_type': 'Coupe',\n  'engine_size': 3.4,\n  'gearbox': 'Manual',\n  'fuel_type': 'Petrol',\n  'doors': 2,\n  '0-6Xmph': 5.2,\n  'top_speed': 175,\n  'cylinders': 6,\n  'power': 300},\n '202110128409013': {'id': '202110128409013',\n  'name': 'Porsche 911',\n  'year': '2005',\n  'mileage': 59950,\n  'price': 24950,\n  'advert_subtitle': '3.8 997 Carrera S Tiptronic S 2dr',\n  'body_type': 'Coupe',\n  'engine_size': 3.8,\n  'gearbox': 'Automatic',\n  'fuel_type': 'Petrol',\n  'doors': 2,\n  '0-6Xmph': 5.3,\n  'top_speed': 177,\n  'cylinders': 6,\n  'power': 350},\n '202110208694193': {'id': '202110208694193',\n  'name': 'Porsche 911',\n  'year': '2008',\n  'mileage': 79000,\n  'price': 38990,\n  'advert_subtitle': '3.8 997 4S Targa Tiptronic S AWD 2dr',\n  'body_type': 'Convertible',\n  'engine_size': 3.8,\n  'gearbox': 'Automatic',\n  'fuel_type': 'Petrol',\n  'doors': 2,\n  '0-6Xmph': 5.4,\n  'top_speed': 174,\n  'cylinders': 6,\n  'power': 350},\n '202106304439092': {'id': '202106304439092',\n  'name': 'Porsche 911',\n  'year': '2002',\n  'mileage': 78500,\n  'price': 33995,\n  'advert_subtitle': '3.6 996 Turbo AWD 2dr',\n  'body_type': 'Coupe',\n  'engine_size': 3.6,\n  'gearbox': 'Manual',\n  'fuel_type': 'Petrol',\n  'doors': 2,\n  '0-6Xmph': 4.2,\n  'top_speed': 190,\n  'cylinders': 6,\n  'power': 414},\n '202106234153685': {'id': '202106234153685',\n  'name': 'Porsche 911',\n  'year': '2008',\n  'mileage': 44558,\n  'price': 43911,\n  'advert_subtitle': '3.8 CARRERA 4 S 2d 350 BHP',\n  'body_type': 'Coupe',\n  'engine_size': 3.8,\n  'gearbox': 'Manual',\n  'fuel_type': 'Petrol',\n  'doors': 2,\n  '0-6Xmph': 4.8,\n  'top_speed': 180,\n  'cylinders': 6,\n  'power': 350},\n '202107235359966': {'id': '202107235359966',\n  'name': 'Porsche 911',\n  'year': '2009',\n  'mileage': 64325,\n  'price': 37490,\n  'advert_subtitle': '3.8 CARRERA 4 S 2d 350 BHP',\n  'body_type': 'Coupe',\n  'engine_size': 3.8,\n  'gearbox': 'Manual',\n  'fuel_type': 'Petrol',\n  'doors': 2,\n  '0-6Xmph': 4.8,\n  'top_speed': 180,\n  'cylinders': 6,\n  'power': 350}}"
     },
     "execution_count": 75,
     "metadata": {},
     "output_type": "execute_result"
    }
   ],
   "source": [
    "cars"
   ],
   "metadata": {
    "collapsed": false,
    "pycharm": {
     "name": "#%%\n"
    }
   }
  },
  {
   "cell_type": "code",
   "execution_count": 44,
   "outputs": [],
   "source": [
    "import pickle\n",
    "\n",
    "# Store data\n",
    "with open('cars.pickle', 'wb') as handle:\n",
    "   pickle.dump(cars, handle, protocol=pickle.HIGHEST_PROTOCOL)"
   ],
   "metadata": {
    "collapsed": false,
    "pycharm": {
     "name": "#%%\n"
    }
   }
  },
  {
   "cell_type": "code",
   "execution_count": 45,
   "outputs": [
    {
     "data": {
      "text/plain": "{'202105202850513': {'id': '202105202850513',\n  'name': 'Porsche 911',\n  'year': '2011',\n  'mileage': 6699,\n  'price': 459950,\n  'advert_subtitle': '4.0 997 GT3 RS 2dr',\n  'body_type': 'Coupe',\n  'engine_size': 4.0,\n  'gearbox': 'Manual',\n  'fuel_type': 'Petrol',\n  'doors': 2,\n  '0-6Xmph': 3.9,\n  'top_speed': 193,\n  'cylinders': 6,\n  'power': 500},\n '202110048110259': {'id': '202110048110259',\n  'name': 'Porsche 911',\n  'year': '2021',\n  'mileage': 4000,\n  'price': 117500,\n  'advert_subtitle': '3.0 CARRERA PDK 2d 380 BHP Very Low Mileage, Presented in Immaculate Condit',\n  'body_type': 'Convertible',\n  'engine_size': 3.0,\n  'gearbox': 'Automatic',\n  'fuel_type': 'Petrol',\n  'doors': 2,\n  '0-6Xmph': 4.4,\n  'top_speed': 181,\n  'cylinders': 6,\n  'power': 380}}"
     },
     "execution_count": 45,
     "metadata": {},
     "output_type": "execute_result"
    }
   ],
   "source": [
    "# Load data\n",
    "with open('cars.pickle', 'rb') as handle:\n",
    "   unserialized_data = pickle.load(handle)\n",
    "\n",
    "unserialized_data"
   ],
   "metadata": {
    "collapsed": false,
    "pycharm": {
     "name": "#%%\n"
    }
   }
  }
 ],
 "metadata": {
  "kernelspec": {
   "display_name": "Python 3",
   "language": "python",
   "name": "python3"
  },
  "language_info": {
   "codemirror_mode": {
    "name": "ipython",
    "version": 2
   },
   "file_extension": ".py",
   "mimetype": "text/x-python",
   "name": "python",
   "nbconvert_exporter": "python",
   "pygments_lexer": "ipython2",
   "version": "2.7.6"
  }
 },
 "nbformat": 4,
 "nbformat_minor": 0
}