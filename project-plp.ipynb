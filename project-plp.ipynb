{
 "cells": [
  {
   "cell_type": "code",
   "execution_count": 34,
   "outputs": [],
   "source": [
    "import requests, bs4, re\n",
    "from bs4 import BeautifulSoup as bs"
   ],
   "metadata": {
    "collapsed": false,
    "pycharm": {
     "name": "#%%\n"
    }
   }
  },
  {
   "cell_type": "code",
   "execution_count": 35,
   "outputs": [],
   "source": [
    "search_results_url = 'https://www.autotrader.co.uk/car-search?postcode=bh205lg&make=Porsche&model=911&include-delivery-option=on&advertising-location=at_cars&page=1'"
   ],
   "metadata": {
    "collapsed": false,
    "pycharm": {
     "name": "#%%\n"
    }
   }
  },
  {
   "cell_type": "code",
   "execution_count": null,
   "outputs": [],
   "source": [
    "\"https://www.autotrader.co.uk/car-search?postcode=bh205lg&make=Porsche&model=911&include-delivery-option=on&advertising-location=at_cars&page=2\""
   ],
   "metadata": {
    "collapsed": false,
    "pycharm": {
     "name": "#%%\n"
    }
   }
  },
  {
   "cell_type": "code",
   "execution_count": 36,
   "outputs": [],
   "source": [
    "# url = 'https://www.autotrader.co.uk/car-details/202110048110259?year-to=2021&advertising-location=at_cars&model=911&make=Porsche&include-delivery-option=on&postcode=bh205lg&onesearchad=New&onesearchad=Nearly%20New&onesearchad=Used&radius=1501&sort=relevance&page=1'"
   ],
   "metadata": {
    "collapsed": false,
    "pycharm": {
     "name": "#%%\n"
    }
   }
  },
  {
   "cell_type": "code",
   "execution_count": 37,
   "outputs": [],
   "source": [
    "from selenium import webdriver\n",
    "from selenium.webdriver.common.keys import Keys\n",
    "import time, os\n",
    "\n",
    "chromedriver = \"/Users/william.bell/opt/anaconda3/envs/metis/lib/python3.8/site-packages/chromedriver_binary/chromedriver\" # path to the chromedriver executable\n",
    "os.environ[\"webdriver.chrome.driver\"] = chromedriver"
   ],
   "metadata": {
    "collapsed": false,
    "pycharm": {
     "name": "#%%\n"
    }
   }
  },
  {
   "cell_type": "code",
   "execution_count": 38,
   "outputs": [],
   "source": [
    "# query = \"data science\"\n",
    "# youtube_search = \"https://www.youtube.com/results?search_query=\"\n",
    "# youtube_query = youtube_search + query.replace(' ', '+')\n",
    "driver = webdriver.Chrome(chromedriver)\n",
    "driver.implicitly_wait(10)\n",
    "driver.get(search_results_url)\n",
    "driver.maximize_window()"
   ],
   "metadata": {
    "collapsed": false,
    "pycharm": {
     "name": "#%%\n"
    }
   }
  },
  {
   "cell_type": "code",
   "execution_count": 39,
   "outputs": [
    {
     "data": {
      "text/plain": "'<html data-feature=\"new-buttons\"><head>\\n\\n    <meta name=\"gpt1\" content=\"/323304435/web/cars/search/listings\">\\n\\n    <meta name=\"gpt2\" content=\"/323304435/web/cars/content/sponsored\">\\n\\n\\n<script type=\"text/javascript\" async=\"\" src=\"https://www.google-analytics.com/plugins/ua/ec.js\"></script><script type=\"text/javascript\" async=\"\" charset=\"utf-8\" id=\"utag_515\" src=\"//js.adsrvr.org/up_loader.1.1.0.js\"></script><script type=\"text/javascript\" async=\"\" charset=\"utf-8\" id=\"utag_460\" src=\"https://www.googletagmanager.com/gtag/js?id=DC-8189056\"></script><script type=\"text/javascript\" async=\"\" charset=\"utf-8\" id=\"tealium-tag-7110\" src=\"//www.google-analytics.com/analytics.js\"></script><script type=\"text/javascript\" async=\"\" charset=\"utf-8\" id=\"utag_555\" src=\"https://cdn.privacy-mgmt.com/wrapperMessagingWithoutDetection.js\"></script><script src=\"//tags.tiqcdn.com/utag/autotrader/at-desktop/prod/utag.js\" type=\"text/javascript\" async=\"\"></script><script async=\"\" src=\"https://m.atcdn.co.uk/frostbite/2'"
     },
     "execution_count": 39,
     "metadata": {},
     "output_type": "execute_result"
    }
   ],
   "source": [
    "driver.page_source[:1000]"
   ],
   "metadata": {
    "collapsed": false,
    "pycharm": {
     "name": "#%%\n"
    }
   }
  },
  {
   "cell_type": "code",
   "execution_count": 40,
   "outputs": [],
   "source": [
    "soup = bs(driver.page_source)"
   ],
   "metadata": {
    "collapsed": false,
    "pycharm": {
     "name": "#%%\n"
    }
   }
  },
  {
   "cell_type": "code",
   "execution_count": 41,
   "outputs": [],
   "source": [
    "pdp_urls = []\n",
    "\n",
    "links = soup.find_all('a', attrs={\"data-label\": \"search appearance click \"})\n"
   ],
   "metadata": {
    "collapsed": false,
    "pycharm": {
     "name": "#%%\n"
    }
   }
  },
  {
   "cell_type": "code",
   "execution_count": 42,
   "outputs": [
    {
     "data": {
      "text/plain": "['/car-details/202110048110259?model=911&make=Porsche&onesearchad=New&onesearchad=Nearly%20New&onesearchad=Used&postcode=bh205lg&include-delivery-option=on&radius=1501&sort=relevance&advertising-location=at_cars&page=1',\n '/car-details/202110218731995?model=911&make=Porsche&onesearchad=New&onesearchad=Nearly%20New&onesearchad=Used&postcode=bh205lg&include-delivery-option=on&radius=1501&sort=relevance&advertising-location=at_cars&page=1',\n '/car-details/202108276699111?model=911&make=Porsche&onesearchad=New&onesearchad=Nearly%20New&onesearchad=Used&postcode=bh205lg&include-delivery-option=on&radius=1501&sort=relevance&advertising-location=at_cars&page=1',\n '/car-details/202109187510335?model=911&make=Porsche&onesearchad=New&onesearchad=Nearly%20New&onesearchad=Used&postcode=bh205lg&include-delivery-option=on&radius=1501&sort=relevance&advertising-location=at_cars&page=1',\n '/car-details/202109026919221?model=911&make=Porsche&onesearchad=New&onesearchad=Nearly%20New&onesearchad=Used&postcode=bh205lg&include-delivery-option=on&radius=1501&sort=relevance&advertising-location=at_cars&page=1',\n '/car-details/202106234153685?model=911&make=Porsche&onesearchad=New&onesearchad=Nearly%20New&onesearchad=Used&postcode=bh205lg&include-delivery-option=on&radius=1501&sort=relevance&advertising-location=at_cars&page=1',\n '/car-details/202109227667959?model=911&make=Porsche&onesearchad=New&onesearchad=Nearly%20New&onesearchad=Used&postcode=bh205lg&include-delivery-option=on&radius=1501&sort=relevance&advertising-location=at_cars&page=1',\n '/car-details/202108065928317?model=911&make=Porsche&onesearchad=New&onesearchad=Nearly%20New&onesearchad=Used&postcode=bh205lg&include-delivery-option=on&radius=1501&sort=relevance&advertising-location=at_cars&page=1',\n '/car-details/202110218751352?model=911&make=Porsche&onesearchad=New&onesearchad=Nearly%20New&onesearchad=Used&postcode=bh205lg&include-delivery-option=on&radius=1501&sort=relevance&advertising-location=at_cars&page=1',\n '/car-details/202109227664858?model=911&make=Porsche&onesearchad=New&onesearchad=Nearly%20New&onesearchad=Used&postcode=bh205lg&include-delivery-option=on&radius=1501&sort=relevance&advertising-location=at_cars&page=1',\n '/car-details/202110128409013?model=911&make=Porsche&onesearchad=New&onesearchad=Nearly%20New&onesearchad=Used&postcode=bh205lg&include-delivery-option=on&radius=1501&sort=relevance&advertising-location=at_cars&page=1',\n '/car-details/202105122516457?model=911&make=Porsche&onesearchad=New&onesearchad=Nearly%20New&onesearchad=Used&postcode=bh205lg&include-delivery-option=on&radius=1501&sort=relevance&advertising-location=at_cars&page=1',\n '/car-details/202110048110259?model=911&make=Porsche&onesearchad=New&onesearchad=Nearly%20New&onesearchad=Used&postcode=bh205lg&include-delivery-option=on&radius=1501&sort=relevance&advertising-location=at_cars&page=1']"
     },
     "execution_count": 42,
     "metadata": {},
     "output_type": "execute_result"
    }
   ],
   "source": [
    "for link in links:\n",
    "    pdp_urls.append(link.get('href'))\n",
    "\n",
    "pdp_urls"
   ],
   "metadata": {
    "collapsed": false,
    "pycharm": {
     "name": "#%%\n"
    }
   }
  },
  {
   "cell_type": "code",
   "execution_count": 43,
   "outputs": [
    {
     "data": {
      "text/plain": "13"
     },
     "execution_count": 43,
     "metadata": {},
     "output_type": "execute_result"
    }
   ],
   "source": [
    "len(pdp_urls)"
   ],
   "metadata": {
    "collapsed": false,
    "pycharm": {
     "name": "#%%\n"
    }
   }
  },
  {
   "cell_type": "code",
   "execution_count": 44,
   "outputs": [
    {
     "data": {
      "text/plain": "'Accept All'"
     },
     "execution_count": 44,
     "metadata": {},
     "output_type": "execute_result"
    }
   ],
   "source": [
    "iframe = driver.find_element_by_xpath(\"//iframe[@title='SP Consent Message']\")\n",
    "driver.switch_to.frame(iframe)\n",
    "driver.find_element_by_css_selector(\"*[title='Accept All']\").text"
   ],
   "metadata": {
    "collapsed": false,
    "pycharm": {
     "name": "#%%\n"
    }
   }
  },
  {
   "cell_type": "code",
   "execution_count": 45,
   "outputs": [],
   "source": [
    "driver.find_element_by_css_selector(\"*[title='Accept All']\").click()"
   ],
   "metadata": {
    "collapsed": false,
    "pycharm": {
     "name": "#%%\n"
    }
   }
  },
  {
   "cell_type": "code",
   "execution_count": 46,
   "outputs": [],
   "source": [
    "driver.switch_to.default_content()"
   ],
   "metadata": {
    "collapsed": false,
    "pycharm": {
     "name": "#%%\n"
    }
   }
  },
  {
   "cell_type": "code",
   "execution_count": 1,
   "outputs": [
    {
     "data": {
      "text/plain": "'202110128409013'"
     },
     "execution_count": 1,
     "metadata": {},
     "output_type": "execute_result"
    }
   ],
   "source": [
    "test = '/car-details/202110128409013?model=911&make=Porsche&onesearchad=New&onesearchad=Nearly%20New&onesearchad=Used&postcode=bh205lg&include-delivery-option=on&radius=1501&sort=relevance&advertising-location=at_cars&page=1'\n",
    "\n",
    "import re\n",
    "pat = r'(\\d+)\\?'             #See Note at the bottom of the answer\n",
    "match = re.search(pat, test)\n",
    "match.group(1)"
   ],
   "metadata": {
    "collapsed": false,
    "pycharm": {
     "name": "#%%\n"
    }
   }
  },
  {
   "cell_type": "code",
   "execution_count": null,
   "outputs": [],
   "source": [],
   "metadata": {
    "collapsed": false,
    "pycharm": {
     "name": "#%%\n"
    }
   }
  }
 ],
 "metadata": {
  "kernelspec": {
   "display_name": "Python 3",
   "language": "python",
   "name": "python3"
  },
  "language_info": {
   "codemirror_mode": {
    "name": "ipython",
    "version": 2
   },
   "file_extension": ".py",
   "mimetype": "text/x-python",
   "name": "python",
   "nbconvert_exporter": "python",
   "pygments_lexer": "ipython2",
   "version": "2.7.6"
  }
 },
 "nbformat": 4,
 "nbformat_minor": 0
}